{
 "cells": [
  {
   "cell_type": "code",
   "execution_count": 65,
   "metadata": {},
   "outputs": [],
   "source": [
    "import matplotlib.pyplot as plt\n",
    "%matplotlib inline\n",
    "import pandas as pd\n",
    "import numpy as np\n",
    "from collections import Counter\n",
    "import seaborn as sns"
   ]
  },
  {
   "cell_type": "code",
   "execution_count": 3,
   "metadata": {},
   "outputs": [],
   "source": [
    "course_chapter_items_df = pd.read_csv('./data/course_chapter_items.csv')\n",
    "course_df = pd.read_csv('./data/courses.csv')\n",
    "users_df = pd.read_csv('./data/users.csv')\n",
    "subgroups_df = pd.read_csv('./data/subgroups.csv')\n",
    "\n",
    "train_group_df = pd.read_csv('./data/train_group.csv')\n",
    "test_seen_group_df = pd.read_csv('./data/test_seen_group.csv')\n",
    "val_seen_group_df = pd.read_csv('./data/val_seen_group.csv')\n",
    "test_unseen_group_df = pd.read_csv('./data/test_unseen_group.csv')\n",
    "val_unseen_group_df = pd.read_csv('./data/val_unseen_group.csv')\n",
    "\n",
    "train_df = pd.read_csv('./data/train.csv')\n",
    "test_seen_df = pd.read_csv('./data/test_seen.csv')\n",
    "val_seen_df = pd.read_csv('./data/val_seen.csv')\n",
    "test_unseen_df = pd.read_csv('./data/test_unseen.csv')\n",
    "val_unseen_df = pd.read_csv('./data/val_unseen.csv')"
   ]
  },
  {
   "cell_type": "code",
   "execution_count": 4,
   "metadata": {},
   "outputs": [],
   "source": [
    "def check_row_number_with_unique_amount(df, df_name, column):\n",
    "    nrow = df.shape[0]\n",
    "    nunique = pd.unique(df.loc[:,column]).shape[0]\n",
    "    msg = f'dataframe {df_name} row number != unique {column} amount'\n",
    "    assert nrow == nunique, msg\n",
    "    print(f'dataframe {df_name} row number == unique {column} amount ({nrow} == {nunique})')\n",
    "\n",
    "def check_unique_items_are_same_set(df1, df1_name, df1_column, df2, df2_name, df2_column):\n",
    "    df1_set = set(df1.loc[:,df1_column].to_list())\n",
    "    df2_set = set(df2.loc[:,df2_column].to_list())\n",
    "    diff = df1_set.symmetric_difference(df2_set)\n",
    "    msg = f'unique {df1_name}.{df1_column} & unique {df2_name}.{df2_column} are different'\n",
    "    assert len(diff) == 0, msg\n",
    "    print(f'unique {df1_name}.{df1_column} & unique {df2_name}.{df2_column} are the same')\n"
   ]
  },
  {
   "cell_type": "markdown",
   "metadata": {},
   "source": [
    "NaN 檢查\n"
   ]
  },
  {
   "cell_type": "code",
   "execution_count": 5,
   "metadata": {},
   "outputs": [
    {
     "data": {
      "text/html": [
       "<div>\n",
       "<style scoped>\n",
       "    .dataframe tbody tr th:only-of-type {\n",
       "        vertical-align: middle;\n",
       "    }\n",
       "\n",
       "    .dataframe tbody tr th {\n",
       "        vertical-align: top;\n",
       "    }\n",
       "\n",
       "    .dataframe thead th {\n",
       "        text-align: right;\n",
       "    }\n",
       "</style>\n",
       "<table border=\"1\" class=\"dataframe\">\n",
       "  <thead>\n",
       "    <tr style=\"text-align: right;\">\n",
       "      <th></th>\n",
       "      <th>df_name</th>\n",
       "      <th>nans</th>\n",
       "    </tr>\n",
       "  </thead>\n",
       "  <tbody>\n",
       "    <tr>\n",
       "      <th>0</th>\n",
       "      <td>course_chapter_items</td>\n",
       "      <td>2029</td>\n",
       "    </tr>\n",
       "    <tr>\n",
       "      <th>1</th>\n",
       "      <td>course</td>\n",
       "      <td>69</td>\n",
       "    </tr>\n",
       "    <tr>\n",
       "      <th>2</th>\n",
       "      <td>users</td>\n",
       "      <td>293146</td>\n",
       "    </tr>\n",
       "    <tr>\n",
       "      <th>3</th>\n",
       "      <td>subgroups</td>\n",
       "      <td>0</td>\n",
       "    </tr>\n",
       "    <tr>\n",
       "      <th>4</th>\n",
       "      <td>train_group</td>\n",
       "      <td>705</td>\n",
       "    </tr>\n",
       "    <tr>\n",
       "      <th>5</th>\n",
       "      <td>test_seen_group</td>\n",
       "      <td>0</td>\n",
       "    </tr>\n",
       "    <tr>\n",
       "      <th>6</th>\n",
       "      <td>val_seen_group</td>\n",
       "      <td>33</td>\n",
       "    </tr>\n",
       "    <tr>\n",
       "      <th>7</th>\n",
       "      <td>test_unseen_group</td>\n",
       "      <td>0</td>\n",
       "    </tr>\n",
       "    <tr>\n",
       "      <th>8</th>\n",
       "      <td>val_unseen_group</td>\n",
       "      <td>96</td>\n",
       "    </tr>\n",
       "    <tr>\n",
       "      <th>9</th>\n",
       "      <td>train</td>\n",
       "      <td>0</td>\n",
       "    </tr>\n",
       "    <tr>\n",
       "      <th>10</th>\n",
       "      <td>test_seen</td>\n",
       "      <td>0</td>\n",
       "    </tr>\n",
       "    <tr>\n",
       "      <th>11</th>\n",
       "      <td>val_seen</td>\n",
       "      <td>0</td>\n",
       "    </tr>\n",
       "    <tr>\n",
       "      <th>12</th>\n",
       "      <td>test_unseen</td>\n",
       "      <td>0</td>\n",
       "    </tr>\n",
       "    <tr>\n",
       "      <th>13</th>\n",
       "      <td>val_unseen</td>\n",
       "      <td>0</td>\n",
       "    </tr>\n",
       "  </tbody>\n",
       "</table>\n",
       "</div>"
      ],
      "text/plain": [
       "                 df_name    nans\n",
       "0   course_chapter_items    2029\n",
       "1                 course      69\n",
       "2                  users  293146\n",
       "3              subgroups       0\n",
       "4            train_group     705\n",
       "5        test_seen_group       0\n",
       "6         val_seen_group      33\n",
       "7      test_unseen_group       0\n",
       "8       val_unseen_group      96\n",
       "9                  train       0\n",
       "10             test_seen       0\n",
       "11              val_seen       0\n",
       "12           test_unseen       0\n",
       "13            val_unseen       0"
      ]
     },
     "execution_count": 5,
     "metadata": {},
     "output_type": "execute_result"
    }
   ],
   "source": [
    "\n",
    "course_chapter_items_df_nans = course_chapter_items_df.isnull().sum().sum()\n",
    "course_df_nans = course_df.isnull().sum().sum()\n",
    "users_df_nans = users_df.isnull().sum().sum()\n",
    "subgroups_df_nans = subgroups_df.isnull().sum().sum()\n",
    "\n",
    "train_group_df_nans = train_group_df.isnull().sum().sum()\n",
    "test_seen_group_df_nans = test_seen_group_df.isnull().sum().sum()\n",
    "val_seen_group_df_nans = val_seen_group_df.isnull().sum().sum()\n",
    "test_unseen_group_df_nans = test_unseen_group_df.isnull().sum().sum()\n",
    "val_unseen_group_df_nans = val_unseen_group_df.isnull().sum().sum()\n",
    "\n",
    "train_df_nans = train_df.isnull().sum().sum()\n",
    "test_seen_df_nans = test_seen_df.isnull().sum().sum()\n",
    "val_seen_df_nans = val_seen_df.isnull().sum().sum()\n",
    "test_unseen_df_nans = test_unseen_df.isnull().sum().sum()\n",
    "val_unseen_df_nans = val_unseen_df.isnull().sum().sum()\n",
    "\n",
    "pd.DataFrame({'df_name':[    \n",
    "    \"course_chapter_items\", \n",
    "    \"course\", \n",
    "    \"users\", \n",
    "    \"subgroups\", \n",
    "    \"train_group\",\n",
    "    \"test_seen_group\", \n",
    "    \"val_seen_group\", \n",
    "    \"test_unseen_group\", \n",
    "    \"val_unseen_group\", \n",
    "    \"train\", \n",
    "    \"test_seen\", \n",
    "    \"val_seen\", \n",
    "    \"test_unseen\", \n",
    "    \"val_unseen\"], 'nans':[\n",
    "    course_chapter_items_df_nans, \n",
    "    course_df_nans, \n",
    "    users_df_nans, \n",
    "    subgroups_df_nans, \n",
    "    train_group_df_nans,\n",
    "    test_seen_group_df_nans, \n",
    "    val_seen_group_df_nans, \n",
    "    test_unseen_group_df_nans, \n",
    "    val_unseen_group_df_nans, \n",
    "    train_df_nans, \n",
    "    test_seen_df_nans, \n",
    "    val_seen_df_nans, \n",
    "    test_unseen_df_nans, \n",
    "    val_unseen_df_nans]})"
   ]
  },
  {
   "cell_type": "code",
   "execution_count": 6,
   "metadata": {},
   "outputs": [
    {
     "data": {
      "text/plain": [
       "course_id                     0\n",
       "chapter_no                    0\n",
       "chapter_id                    0\n",
       "chapter_name                103\n",
       "chapter_item_id               0\n",
       "chapter_item_no               0\n",
       "chapter_item_name             7\n",
       "chapter_item_type             0\n",
       "video_length_in_seconds    1919\n",
       "dtype: int64"
      ]
     },
     "execution_count": 6,
     "metadata": {},
     "output_type": "execute_result"
    }
   ],
   "source": [
    "course_chapter_items_df.isnull().sum()"
   ]
  },
  {
   "cell_type": "code",
   "execution_count": 7,
   "metadata": {},
   "outputs": [
    {
     "data": {
      "text/plain": [
       "user_id       0\n",
       "subgroup    705\n",
       "dtype: int64"
      ]
     },
     "execution_count": 7,
     "metadata": {},
     "output_type": "execute_result"
    }
   ],
   "source": [
    "train_group_df.isnull().sum()"
   ]
  },
  {
   "cell_type": "code",
   "execution_count": 8,
   "metadata": {},
   "outputs": [
    {
     "name": "stdout",
     "output_type": "stream",
     "text": [
      "unique subgroup id:91\n",
      "unique user id: 130566\n",
      "train_df, train_group_df have the same unique user_id set\n",
      "unique train_df.user_id & unique train_group_df.user_id are the same\n",
      "dataframe train_df row number == unique user_id amount (59737 == 59737)\n",
      "dataframe train_group_df row number == unique user_id amount (59737 == 59737)\n"
     ]
    }
   ],
   "source": [
    "subgroups_df_sid = pd.unique(subgroups_df.subgroup_id).shape[0]\n",
    "users_df_uid = pd.unique(users_df.user_id).shape[0]\n",
    "print(f'unique subgroup id:{subgroups_df_sid}')\n",
    "print(f'unique user id: {users_df_uid}')\n",
    "\n",
    "\n",
    "train_df_uid_set = set(train_df.user_id.to_list())\n",
    "train_group_df_uid_set = set(train_group_df.user_id.to_list())\n",
    "identical_set = train_df_uid_set.symmetric_difference(train_group_df_uid_set)\n",
    "msg = f'unique user_id not the same set in train_df, train_group_df'\n",
    "assert len(identical_set) == 0, msg\n",
    "print(f'train_df, train_group_df have the same unique user_id set')\n",
    "\n",
    "check_unique_items_are_same_set(train_df, 'train_df', 'user_id', train_group_df, 'train_group_df', 'user_id')\n",
    "check_row_number_with_unique_amount(train_df, 'train_df', 'user_id')\n",
    "check_row_number_with_unique_amount(train_group_df, 'train_group_df', 'user_id')"
   ]
  },
  {
   "cell_type": "code",
   "execution_count": 9,
   "metadata": {},
   "outputs": [
    {
     "ename": "AttributeError",
     "evalue": "'Rectangle' object has no property 'column'",
     "output_type": "error",
     "traceback": [
      "\u001b[1;31m---------------------------------------------------------------------------\u001b[0m",
      "\u001b[1;31mAttributeError\u001b[0m                            Traceback (most recent call last)",
      "\u001b[1;32md:\\ADL\\final\\EDA.ipynb 儲存格 9\u001b[0m in \u001b[0;36m<cell line: 4>\u001b[1;34m()\u001b[0m\n\u001b[0;32m      <a href='vscode-notebook-cell:/d%3A/ADL/final/EDA.ipynb#X11sZmlsZQ%3D%3D?line=0'>1</a>\u001b[0m course_chapter_items_df[[\u001b[39m'\u001b[39m\u001b[39mvideo_length_in_seconds\u001b[39m\u001b[39m'\u001b[39m]]\u001b[39m.\u001b[39mdescribe()\n\u001b[0;32m      <a href='vscode-notebook-cell:/d%3A/ADL/final/EDA.ipynb#X11sZmlsZQ%3D%3D?line=1'>2</a>\u001b[0m course_chapter_items_df[[\u001b[39m'\u001b[39m\u001b[39mvideo_length_in_seconds\u001b[39m\u001b[39m'\u001b[39m]]\n\u001b[1;32m----> <a href='vscode-notebook-cell:/d%3A/ADL/final/EDA.ipynb#X11sZmlsZQ%3D%3D?line=3'>4</a>\u001b[0m ax \u001b[39m=\u001b[39m course_chapter_items_df\u001b[39m.\u001b[39;49mplot\u001b[39m.\u001b[39;49mhist(column\u001b[39m=\u001b[39;49m[\u001b[39m'\u001b[39;49m\u001b[39mvideo_length_in_seconds\u001b[39;49m\u001b[39m'\u001b[39;49m],bins\u001b[39m=\u001b[39;49m\u001b[39m100\u001b[39;49m, xticks\u001b[39m=\u001b[39;49m\u001b[39mrange\u001b[39;49m(\u001b[39m0\u001b[39;49m,\u001b[39m8000\u001b[39;49m,\u001b[39m100\u001b[39;49m), figsize\u001b[39m=\u001b[39;49m(\u001b[39m20\u001b[39;49m,\u001b[39m5\u001b[39;49m), title\u001b[39m=\u001b[39;49m\u001b[39m'\u001b[39;49m\u001b[39mvideo_length_in_seconds\u001b[39;49m\u001b[39m'\u001b[39;49m)\n\u001b[0;32m      <a href='vscode-notebook-cell:/d%3A/ADL/final/EDA.ipynb#X11sZmlsZQ%3D%3D?line=4'>5</a>\u001b[0m ax\u001b[39m.\u001b[39mtick_params(axis\u001b[39m=\u001b[39m\u001b[39m'\u001b[39m\u001b[39mx\u001b[39m\u001b[39m'\u001b[39m, rotation\u001b[39m=\u001b[39m\u001b[39m45\u001b[39m)\n",
      "File \u001b[1;32mc:\\Users\\宏文\\AppData\\Local\\Programs\\Python\\Python39\\lib\\site-packages\\pandas\\plotting\\_core.py:1296\u001b[0m, in \u001b[0;36mPlotAccessor.hist\u001b[1;34m(self, by, bins, **kwargs)\u001b[0m\n\u001b[0;32m   1251\u001b[0m \u001b[39mdef\u001b[39;00m \u001b[39mhist\u001b[39m(\u001b[39mself\u001b[39m, by\u001b[39m=\u001b[39m\u001b[39mNone\u001b[39;00m, bins\u001b[39m=\u001b[39m\u001b[39m10\u001b[39m, \u001b[39m*\u001b[39m\u001b[39m*\u001b[39mkwargs):\n\u001b[0;32m   1252\u001b[0m     \u001b[39m\"\"\"\u001b[39;00m\n\u001b[0;32m   1253\u001b[0m \u001b[39m    Draw one histogram of the DataFrame's columns.\u001b[39;00m\n\u001b[0;32m   1254\u001b[0m \n\u001b[1;32m   (...)\u001b[0m\n\u001b[0;32m   1294\u001b[0m \u001b[39m        >>> ax = df.plot.hist(bins=12, alpha=0.5)\u001b[39;00m\n\u001b[0;32m   1295\u001b[0m \u001b[39m    \"\"\"\u001b[39;00m\n\u001b[1;32m-> 1296\u001b[0m     \u001b[39mreturn\u001b[39;00m \u001b[39mself\u001b[39m(kind\u001b[39m=\u001b[39m\u001b[39m\"\u001b[39m\u001b[39mhist\u001b[39m\u001b[39m\"\u001b[39m, by\u001b[39m=\u001b[39mby, bins\u001b[39m=\u001b[39mbins, \u001b[39m*\u001b[39m\u001b[39m*\u001b[39mkwargs)\n",
      "File \u001b[1;32mc:\\Users\\宏文\\AppData\\Local\\Programs\\Python\\Python39\\lib\\site-packages\\pandas\\plotting\\_core.py:955\u001b[0m, in \u001b[0;36mPlotAccessor.__call__\u001b[1;34m(self, *args, **kwargs)\u001b[0m\n\u001b[0;32m    952\u001b[0m             label_name \u001b[39m=\u001b[39m label_kw \u001b[39mor\u001b[39;00m data\u001b[39m.\u001b[39mcolumns\n\u001b[0;32m    953\u001b[0m             data\u001b[39m.\u001b[39mcolumns \u001b[39m=\u001b[39m label_name\n\u001b[1;32m--> 955\u001b[0m \u001b[39mreturn\u001b[39;00m plot_backend\u001b[39m.\u001b[39mplot(data, kind\u001b[39m=\u001b[39mkind, \u001b[39m*\u001b[39m\u001b[39m*\u001b[39mkwargs)\n",
      "File \u001b[1;32mc:\\Users\\宏文\\AppData\\Local\\Programs\\Python\\Python39\\lib\\site-packages\\pandas\\plotting\\_matplotlib\\__init__.py:61\u001b[0m, in \u001b[0;36mplot\u001b[1;34m(data, kind, **kwargs)\u001b[0m\n\u001b[0;32m     59\u001b[0m         kwargs[\u001b[39m\"\u001b[39m\u001b[39max\u001b[39m\u001b[39m\"\u001b[39m] \u001b[39m=\u001b[39m \u001b[39mgetattr\u001b[39m(ax, \u001b[39m\"\u001b[39m\u001b[39mleft_ax\u001b[39m\u001b[39m\"\u001b[39m, ax)\n\u001b[0;32m     60\u001b[0m plot_obj \u001b[39m=\u001b[39m PLOT_CLASSES[kind](data, \u001b[39m*\u001b[39m\u001b[39m*\u001b[39mkwargs)\n\u001b[1;32m---> 61\u001b[0m plot_obj\u001b[39m.\u001b[39;49mgenerate()\n\u001b[0;32m     62\u001b[0m plot_obj\u001b[39m.\u001b[39mdraw()\n\u001b[0;32m     63\u001b[0m \u001b[39mreturn\u001b[39;00m plot_obj\u001b[39m.\u001b[39mresult\n",
      "File \u001b[1;32mc:\\Users\\宏文\\AppData\\Local\\Programs\\Python\\Python39\\lib\\site-packages\\pandas\\plotting\\_matplotlib\\core.py:280\u001b[0m, in \u001b[0;36mMPLPlot.generate\u001b[1;34m(self)\u001b[0m\n\u001b[0;32m    278\u001b[0m \u001b[39mself\u001b[39m\u001b[39m.\u001b[39m_compute_plot_data()\n\u001b[0;32m    279\u001b[0m \u001b[39mself\u001b[39m\u001b[39m.\u001b[39m_setup_subplots()\n\u001b[1;32m--> 280\u001b[0m \u001b[39mself\u001b[39;49m\u001b[39m.\u001b[39;49m_make_plot()\n\u001b[0;32m    281\u001b[0m \u001b[39mself\u001b[39m\u001b[39m.\u001b[39m_add_table()\n\u001b[0;32m    282\u001b[0m \u001b[39mself\u001b[39m\u001b[39m.\u001b[39m_make_legend()\n",
      "File \u001b[1;32mc:\\Users\\宏文\\AppData\\Local\\Programs\\Python\\Python39\\lib\\site-packages\\pandas\\plotting\\_matplotlib\\hist.py:92\u001b[0m, in \u001b[0;36mHistPlot._make_plot\u001b[1;34m(self)\u001b[0m\n\u001b[0;32m     89\u001b[0m \u001b[39mif\u001b[39;00m weights \u001b[39mis\u001b[39;00m \u001b[39mnot\u001b[39;00m \u001b[39mNone\u001b[39;00m \u001b[39mand\u001b[39;00m np\u001b[39m.\u001b[39mndim(weights) \u001b[39m!=\u001b[39m \u001b[39m1\u001b[39m:\n\u001b[0;32m     90\u001b[0m     kwds[\u001b[39m\"\u001b[39m\u001b[39mweights\u001b[39m\u001b[39m\"\u001b[39m] \u001b[39m=\u001b[39m weights[:, i]\n\u001b[1;32m---> 92\u001b[0m artists \u001b[39m=\u001b[39m \u001b[39mself\u001b[39m\u001b[39m.\u001b[39m_plot(ax, y, column_num\u001b[39m=\u001b[39mi, stacking_id\u001b[39m=\u001b[39mstacking_id, \u001b[39m*\u001b[39m\u001b[39m*\u001b[39mkwds)\n\u001b[0;32m     93\u001b[0m \u001b[39mself\u001b[39m\u001b[39m.\u001b[39m_add_legend_handle(artists[\u001b[39m0\u001b[39m], label, index\u001b[39m=\u001b[39mi)\n",
      "File \u001b[1;32mc:\\Users\\宏文\\AppData\\Local\\Programs\\Python\\Python39\\lib\\site-packages\\pandas\\plotting\\_matplotlib\\hist.py:63\u001b[0m, in \u001b[0;36mHistPlot._plot\u001b[1;34m(cls, ax, y, style, bins, bottom, column_num, stacking_id, **kwds)\u001b[0m\n\u001b[0;32m     61\u001b[0m bottom \u001b[39m=\u001b[39m bottom \u001b[39m+\u001b[39m \u001b[39mcls\u001b[39m\u001b[39m.\u001b[39m_get_stacked_values(ax, stacking_id, base, kwds[\u001b[39m\"\u001b[39m\u001b[39mlabel\u001b[39m\u001b[39m\"\u001b[39m])\n\u001b[0;32m     62\u001b[0m \u001b[39m# ignore style\u001b[39;00m\n\u001b[1;32m---> 63\u001b[0m n, bins, patches \u001b[39m=\u001b[39m ax\u001b[39m.\u001b[39mhist(y, bins\u001b[39m=\u001b[39mbins, bottom\u001b[39m=\u001b[39mbottom, \u001b[39m*\u001b[39m\u001b[39m*\u001b[39mkwds)\n\u001b[0;32m     64\u001b[0m \u001b[39mcls\u001b[39m\u001b[39m.\u001b[39m_update_stacker(ax, stacking_id, n)\n\u001b[0;32m     65\u001b[0m \u001b[39mreturn\u001b[39;00m patches\n",
      "File \u001b[1;32mc:\\Users\\宏文\\AppData\\Local\\Programs\\Python\\Python39\\lib\\site-packages\\matplotlib\\__init__.py:1361\u001b[0m, in \u001b[0;36m_preprocess_data.<locals>.inner\u001b[1;34m(ax, data, *args, **kwargs)\u001b[0m\n\u001b[0;32m   1358\u001b[0m \u001b[39m@functools\u001b[39m\u001b[39m.\u001b[39mwraps(func)\n\u001b[0;32m   1359\u001b[0m \u001b[39mdef\u001b[39;00m \u001b[39minner\u001b[39m(ax, \u001b[39m*\u001b[39margs, data\u001b[39m=\u001b[39m\u001b[39mNone\u001b[39;00m, \u001b[39m*\u001b[39m\u001b[39m*\u001b[39mkwargs):\n\u001b[0;32m   1360\u001b[0m     \u001b[39mif\u001b[39;00m data \u001b[39mis\u001b[39;00m \u001b[39mNone\u001b[39;00m:\n\u001b[1;32m-> 1361\u001b[0m         \u001b[39mreturn\u001b[39;00m func(ax, \u001b[39m*\u001b[39m\u001b[39mmap\u001b[39m(sanitize_sequence, args), \u001b[39m*\u001b[39m\u001b[39m*\u001b[39mkwargs)\n\u001b[0;32m   1363\u001b[0m     bound \u001b[39m=\u001b[39m new_sig\u001b[39m.\u001b[39mbind(ax, \u001b[39m*\u001b[39margs, \u001b[39m*\u001b[39m\u001b[39m*\u001b[39mkwargs)\n\u001b[0;32m   1364\u001b[0m     auto_label \u001b[39m=\u001b[39m (bound\u001b[39m.\u001b[39marguments\u001b[39m.\u001b[39mget(label_namer)\n\u001b[0;32m   1365\u001b[0m                   \u001b[39mor\u001b[39;00m bound\u001b[39m.\u001b[39mkwargs\u001b[39m.\u001b[39mget(label_namer))\n",
      "File \u001b[1;32mc:\\Users\\宏文\\AppData\\Local\\Programs\\Python\\Python39\\lib\\site-packages\\matplotlib\\axes\\_axes.py:6911\u001b[0m, in \u001b[0;36mAxes.hist\u001b[1;34m(self, x, bins, range, density, weights, cumulative, bottom, histtype, align, orientation, rwidth, log, color, label, stacked, **kwargs)\u001b[0m\n\u001b[0;32m   6909\u001b[0m \u001b[39mif\u001b[39;00m patch:\n\u001b[0;32m   6910\u001b[0m     p \u001b[39m=\u001b[39m patch[\u001b[39m0\u001b[39m]\n\u001b[1;32m-> 6911\u001b[0m     p\u001b[39m.\u001b[39;49mupdate(kwargs)\n\u001b[0;32m   6912\u001b[0m     \u001b[39mif\u001b[39;00m lbl \u001b[39mis\u001b[39;00m \u001b[39mnot\u001b[39;00m \u001b[39mNone\u001b[39;00m:\n\u001b[0;32m   6913\u001b[0m         p\u001b[39m.\u001b[39mset_label(lbl)\n",
      "File \u001b[1;32mc:\\Users\\宏文\\AppData\\Local\\Programs\\Python\\Python39\\lib\\site-packages\\matplotlib\\artist.py:1062\u001b[0m, in \u001b[0;36mArtist.update\u001b[1;34m(self, props)\u001b[0m\n\u001b[0;32m   1060\u001b[0m             func \u001b[39m=\u001b[39m \u001b[39mgetattr\u001b[39m(\u001b[39mself\u001b[39m, \u001b[39mf\u001b[39m\u001b[39m\"\u001b[39m\u001b[39mset_\u001b[39m\u001b[39m{\u001b[39;00mk\u001b[39m}\u001b[39;00m\u001b[39m\"\u001b[39m, \u001b[39mNone\u001b[39;00m)\n\u001b[0;32m   1061\u001b[0m             \u001b[39mif\u001b[39;00m \u001b[39mnot\u001b[39;00m callable(func):\n\u001b[1;32m-> 1062\u001b[0m                 \u001b[39mraise\u001b[39;00m \u001b[39mAttributeError\u001b[39;00m(\u001b[39mf\u001b[39m\u001b[39m\"\u001b[39m\u001b[39m{\u001b[39;00m\u001b[39mtype\u001b[39m(\u001b[39mself\u001b[39m)\u001b[39m.\u001b[39m\u001b[39m__name__\u001b[39m\u001b[39m!r}\u001b[39;00m\u001b[39m object \u001b[39m\u001b[39m\"\u001b[39m\n\u001b[0;32m   1063\u001b[0m                                      \u001b[39mf\u001b[39m\u001b[39m\"\u001b[39m\u001b[39mhas no property \u001b[39m\u001b[39m{\u001b[39;00mk\u001b[39m!r}\u001b[39;00m\u001b[39m\"\u001b[39m)\n\u001b[0;32m   1064\u001b[0m             ret\u001b[39m.\u001b[39mappend(func(v))\n\u001b[0;32m   1065\u001b[0m \u001b[39mif\u001b[39;00m ret:\n",
      "\u001b[1;31mAttributeError\u001b[0m: 'Rectangle' object has no property 'column'"
     ]
    },
    {
     "data": {
      "image/png": "[encoded data removed]",
      "text/plain": [
       "<Figure size 1440x360 with 1 Axes>"
      ]
     },
     "metadata": {
      "needs_background": "light"
     },
     "output_type": "display_data"
    }
   ],
   "source": [
    "course_chapter_items_df[['video_length_in_seconds']].describe()\n",
    "course_chapter_items_df[['video_length_in_seconds']]\n",
    "\n",
    "ax = course_chapter_items_df.plot.hist(column=['video_length_in_seconds'],bins=100, xticks=range(0,8000,100), figsize=(20,5), title='video_length_in_seconds')\n",
    "ax.tick_params(axis='x', rotation=45)"
   ]
  },
  {
   "cell_type": "code",
   "execution_count": 13,
   "metadata": {},
   "outputs": [
    {
     "data": {
      "text/plain": [
       "user_id                   0\n",
       "gender                45195\n",
       "occupation_titles    101510\n",
       "interests             47810\n",
       "recreation_names      98631\n",
       "dtype: int64"
      ]
     },
     "execution_count": 13,
     "metadata": {},
     "output_type": "execute_result"
    }
   ],
   "source": [
    "users_df.isnull().sum()"
   ]
  },
  {
   "cell_type": "code",
   "execution_count": 12,
   "metadata": {},
   "outputs": [
    {
     "data": {
      "text/plain": [
       "(0.0, 3.0, 0.9, 1.2)"
      ]
     },
     "execution_count": 12,
     "metadata": {},
     "output_type": "execute_result"
    },
    {
     "data": {
      "image/png": "[encoded data removed]",
      "text/plain": [
       "<Figure size 576x288 with 1 Axes>"
      ]
     },
     "metadata": {
      "needs_background": "light"
     },
     "output_type": "display_data"
    }
   ],
   "source": [
    "plt.figure(figsize=(8,4))\n",
    "plt.scatter(x=[0.5, 1.5, 2.5], y=[1,1,1], s=15000, color=['#06837f', '#fdc100', 'green'])\n",
    "plt.xlim(0,3)\n",
    "plt.ylim(0.9,1.2)\n",
    "\n",
    "plt.title('Distribution of Male, Female and Other', fontsize=18, weight=600, color='#333d29')\n",
    "plt.text(0.5, 1, '{}\\nTotal'.format(str(len(users_df[users_df['gender']=='male']))), va='center', ha='center', fontsize=18, weight=600, color='white')\n",
    "plt.text(1.5, 1, '{}\\nTotal'.format(str(len(users_df[users_df['gender']=='female']))), va='center', ha='center', fontsize=18, weight=600, color='white')\n",
    "plt.text(2.5, 1, '{}\\nTotal'.format(str(len(users_df[users_df['gender']=='other']))), va='center', ha='center', fontsize=18, weight=600, color='white')\n",
    "plt.text(0.5, 1.11, 'Male', va='center', ha='center', fontsize=17, weight=500, color='#1c2541')\n",
    "plt.text(1.5, 1.11, 'Female', va='center', ha='center', fontsize=17, weight=500, color='#1c2541')\n",
    "plt.text(2.5, 1.11, 'Other', va='center', ha='center', fontsize=17, weight=500, color='#1c2541')\n",
    "\n",
    "plt.axis('off')"
   ]
  },
  {
   "attachments": {},
   "cell_type": "markdown",
   "metadata": {},
   "source": [
    "### subgroup2idx"
   ]
  },
  {
   "cell_type": "code",
   "execution_count": 43,
   "metadata": {},
   "outputs": [
    {
     "name": "stdout",
     "output_type": "stream",
     "text": [
      "<class 'pandas.core.frame.DataFrame'>\n",
      "RangeIndex: 91 entries, 0 to 90\n",
      "Data columns (total 2 columns):\n",
      " #   Column         Non-Null Count  Dtype \n",
      "---  ------         --------------  ----- \n",
      " 0   subgroup_id    91 non-null     int64 \n",
      " 1   subgroup_name  91 non-null     object\n",
      "dtypes: int64(1), object(1)\n",
      "memory usage: 1.5+ KB\n"
     ]
    }
   ],
   "source": [
    "subgroups_df.info()"
   ]
  },
  {
   "cell_type": "code",
   "execution_count": 46,
   "metadata": {},
   "outputs": [
    {
     "data": {
      "text/plain": [
       "{'更多生活品味': 1,\n",
       " '護膚保養與化妝': 2,\n",
       " '平面設計': 3,\n",
       " '繪畫與插畫': 4,\n",
       " '電腦繪圖': 5,\n",
       " '應用設計': 6,\n",
       " '求職': 7,\n",
       " '英文': 8,\n",
       " '手作小物': 9,\n",
       " 'DJ': 10,\n",
       " '更多音樂': 11,\n",
       " '更多藝術': 12,\n",
       " '烹飪料理與甜點': 13,\n",
       " '壓力舒緩': 14,\n",
       " '運動': 15,\n",
       " '親子教育': 16,\n",
       " '手工印刷': 17,\n",
       " '手工書': 18,\n",
       " '動態攝影': 19,\n",
       " '素描': 20,\n",
       " '樂器': 21,\n",
       " '色彩學': 22,\n",
       " '字體設計': 23,\n",
       " '手寫字': 24,\n",
       " '動態設計': 25,\n",
       " '音樂理論': 26,\n",
       " '刺繡': 27,\n",
       " '日文': 28,\n",
       " '心靈成長與教育': 29,\n",
       " '音樂創作': 30,\n",
       " '氣球': 31,\n",
       " '程式入門': 32,\n",
       " '程式語言': 33,\n",
       " '網頁前端': 34,\n",
       " '文書處理': 35,\n",
       " '角色設計': 36,\n",
       " '資料彙整': 37,\n",
       " '介面設計': 38,\n",
       " '網頁設計': 39,\n",
       " '商業攝影': 40,\n",
       " '網站架設': 41,\n",
       " '更多程式': 42,\n",
       " '程式思維': 43,\n",
       " '手機程式開發': 44,\n",
       " '韓文': 45,\n",
       " '更多手作': 46,\n",
       " '更多語言': 47,\n",
       " '歐洲語言': 48,\n",
       " '人聲': 49,\n",
       " '個人品牌經營': 50,\n",
       " '更多職場技能': 51,\n",
       " '網頁後端': 52,\n",
       " '後製剪輯': 53,\n",
       " '產品設計': 54,\n",
       " '靈性發展': 55,\n",
       " '影視創作': 56,\n",
       " '資料科學': 57,\n",
       " '軟體程式開發與維護': 58,\n",
       " '職場溝通': 59,\n",
       " '表演藝術': 60,\n",
       " '創業': 61,\n",
       " '文學': 62,\n",
       " '區塊鏈': 63,\n",
       " '金融商品': 64,\n",
       " '文案': 65,\n",
       " '數位行銷': 66,\n",
       " '設計理論': 67,\n",
       " 'AI 人工智慧': 68,\n",
       " '投資觀念': 69,\n",
       " '理財': 70,\n",
       " '社會科學': 71,\n",
       " '社群行銷': 72,\n",
       " '影像創作': 73,\n",
       " '遊戲開發': 74,\n",
       " '程式理財': 75,\n",
       " '量化交易': 76,\n",
       " '更多設計': 77,\n",
       " '獨立接案': 78,\n",
       " '寵物': 79,\n",
       " '資訊安全': 80,\n",
       " '量化分析': 81,\n",
       " '數學': 82,\n",
       " '效率提升': 83,\n",
       " '居家': 84,\n",
       " '更多人文': 85,\n",
       " '攝影理論': 86,\n",
       " '數據分析': 87,\n",
       " '翻譯': 88,\n",
       " '模型': 89,\n",
       " '更多攝影': 90,\n",
       " '更多行銷': 91}"
      ]
     },
     "execution_count": 46,
     "metadata": {},
     "output_type": "execute_result"
    }
   ],
   "source": [
    "subgroups2idx = {}\n",
    "for (id, name) in zip(subgroups_df[\"subgroup_id\"], subgroups_df[\"subgroup_name\"]):\n",
    "    subgroups2idx.update({name: id})\n",
    "\n",
    "subgroups2idx"
   ]
  },
  {
   "cell_type": "code",
   "execution_count": 41,
   "metadata": {},
   "outputs": [],
   "source": [
    "df = users_df.fillna(\"None\")\n",
    "# interest_df = users_df[\"interests\"].fillna(\"None\")\n",
    "interest_df = df[\"interests\"]\n",
    "gender_df = df[\"gender\"]\n",
    "\n",
    "male_interest_list = []\n",
    "female_interest_list = []\n",
    "other_interest_list = []\n",
    "\n",
    "for gender, interest in zip(gender_df, interest_df):\n",
    "    if gender == \"None\":\n",
    "        continue\n",
    "    if gender == \"male\":\n",
    "        male_interest_list.extend(interest.split(', '))\n",
    "    elif gender == \"female\":\n",
    "        female_interest_list.extend(interest.split(', '))\n",
    "    elif gender == \"other\":\n",
    "        other_interest_list.extend(interest.split(', '))\n"
   ]
  },
  {
   "attachments": {},
   "cell_type": "markdown",
   "metadata": {},
   "source": [
    "#### add interest to each gender"
   ]
  },
  {
   "cell_type": "code",
   "execution_count": 109,
   "metadata": {},
   "outputs": [],
   "source": [
    "other_interest_num = []\n",
    "male_interest_num = []\n",
    "female_interest_num = []\n",
    "\n",
    "for interest in other_interest_list:\n",
    "    for i in interest.split(\",\"):\n",
    "        if i == \"None\":\n",
    "            other_interest_num.append(\"None\")\n",
    "            continue\n",
    "        name = i.split(\"_\")[1]\n",
    "        other_interest_num.append(name)\n",
    "\n",
    "for interest in male_interest_list:\n",
    "    for i in interest.split(\",\"):\n",
    "        if i == \"None\":\n",
    "            male_interest_num.append(\"None\")\n",
    "            continue\n",
    "        name = i.split(\"_\")[1]\n",
    "        male_interest_num.append(name)\n",
    "\n",
    "for interest in female_interest_list:\n",
    "    for i in interest.split(\",\"):\n",
    "        if i == \"None\":\n",
    "            female_interest_num.append(\"None\")\n",
    "            continue\n",
    "        name = i.split(\"_\")[1]\n",
    "        female_interest_num.append(name)"
   ]
  },
  {
   "cell_type": "code",
   "execution_count": 104,
   "metadata": {},
   "outputs": [
    {
     "data": {
      "text/plain": [
       "Counter({'手作_篆刻': 1913,\n",
       "         '語言_西班牙文': 4050,\n",
       "         '投資理財_更多投資理財': 5203,\n",
       "         '投資理財_比特幣': 2612})"
      ]
     },
     "execution_count": 104,
     "metadata": {},
     "output_type": "execute_result"
    }
   ],
   "source": [
    "other_interest_num = []\n",
    "male_interest_num = []\n",
    "female_interest_num = []\n",
    "unseen_interest = []\n",
    "\n",
    "for interest in other_interest_list:\n",
    "    for i in interest.split(\",\"):\n",
    "        if i == \"None\":\n",
    "            other_interest_num.append(0)\n",
    "            continue\n",
    "        name = i.split(\"_\")[1]\n",
    "        if name not in subgroups2idx.keys():\n",
    "            unseen_interest.append(i)\n",
    "            continue\n",
    "        other_interest_num.append(subgroups2idx[name])\n",
    "\n",
    "for interest in male_interest_list:\n",
    "    for i in interest.split(\",\"):\n",
    "        if i == \"None\":\n",
    "            male_interest_num.append(0)\n",
    "            continue\n",
    "        name = i.split(\"_\")[1]\n",
    "        if name not in subgroups2idx.keys():\n",
    "            unseen_interest.append(i)\n",
    "            continue\n",
    "        male_interest_num.append(subgroups2idx[name])\n",
    "\n",
    "for interest in female_interest_list:\n",
    "    for i in interest.split(\",\"):\n",
    "        if i == \"None\":\n",
    "            female_interest_num.append(0)\n",
    "            continue\n",
    "        name = i.split(\"_\")[1]\n",
    "        if name not in subgroups2idx.keys():\n",
    "            unseen_interest.append(i)\n",
    "            continue\n",
    "        female_interest_num.append(subgroups2idx[name])\n",
    "\n",
    "Counter(unseen_interest)\n",
    "# 語言_西班牙文 -> 更多語言(47), 歐洲語言(48)\n",
    "# 手作_篆刻 -> 手作小物(9), 手工印刷(17), 手工書(18), 手寫字(24), 更多手作(46), 字體設計(23)\n",
    "# 投資理財_更多投資理財 -> 量化交易(76), 程式理財(75), 理財(70), 投資觀念(69), 量化分析(81), 數據分析(87)\n",
    "# 投資理財_比特幣 -> 區塊鏈(63), 金融商品(64), 數位行銷(66), 投資觀念(69), 理財(70), 程式理財(75), 量化交易(76), 數據分析(87)"
   ]
  },
  {
   "cell_type": "code",
   "execution_count": 108,
   "metadata": {},
   "outputs": [
    {
     "data": {
      "image/png": "[encoded data removed]",
      "text/plain": [
       "<Figure size 1008x432 with 3 Axes>"
      ]
     },
     "metadata": {
      "needs_background": "light"
     },
     "output_type": "display_data"
    }
   ],
   "source": [
    "fig, axes = plt.subplots(nrows=1, ncols=3, figsize=(14,6))\n",
    "\n",
    "male_interest_plot = pd.DataFrame(Counter(male_interest_num).most_common(15), columns=['interests', 'total'])\n",
    "female_interest_plot = pd.DataFrame(Counter(female_interest_num).most_common(15), columns=['interests', 'total'])\n",
    "other_interest_plot = pd.DataFrame(Counter(other_interest_num).most_common(15), columns=['interests', 'total'])\n",
    "ax1 = sns.barplot(data=male_interest_plot, x='interests', y='total', ax=axes[0], palette=['#06837f', '#02cecb', '#b4ffff', '#f8e16c', '#fed811'])\n",
    "ax2 = sns.barplot(data=female_interest_plot, x='interests', y='total', ax=axes[1], palette=['#06837f', '#02cecb', '#b4ffff', '#f8e16c', '#fed811'])\n",
    "ax3 = sns.barplot(data=other_interest_plot, x='interests', y='total', ax=axes[2], palette=['#06837f', '#02cecb', '#b4ffff', '#f8e16c', '#fed811'])\n",
    "ax1.set_title('Top 5 interests in Male', fontsize=18, weight=600, color='#333d29')\n",
    "ax2.set_title('Top 5 interests in Female', fontsize=18, weight=600, color='#333d29')\n",
    "ax3.set_title('Top 5 interests in Other', fontsize=18, weight=600, color='#333d29')\n",
    "sns.despine()"
   ]
  },
  {
   "cell_type": "code",
   "execution_count": 111,
   "metadata": {},
   "outputs": [],
   "source": [
    "other_interest_num = []\n",
    "male_interest_num = []\n",
    "female_interest_num = []\n",
    "investment = [69, 70, 75, 76, 87]\n",
    "crypto_coin = [63, 64, 66]\n",
    "for interest in other_interest_list:\n",
    "    for i in interest.split(\",\"):\n",
    "        if i == \"None\":\n",
    "            other_interest_num.append(0)\n",
    "            continue\n",
    "        name = i.split(\"_\")[1]\n",
    "        if name == \"篆刻\":\n",
    "            continue\n",
    "        if name == \"西班牙文\":\n",
    "            other_interest_num.append(47)\n",
    "            other_interest_num.append(48)\n",
    "            continue\n",
    "        if name == \"更多投資理財\":\n",
    "            other_interest_num.append(id for id in investment)\n",
    "            other_interest_num.append(81)\n",
    "            continue\n",
    "        if name == \"比特幣\":\n",
    "            other_interest_num.append(id for id in investment)\n",
    "            other_interest_num.append(id for id in crypto_coin)\n",
    "            continue\n",
    "        other_interest_num.append(subgroups2idx[name])\n",
    "\n",
    "for interest in male_interest_list:\n",
    "    for i in interest.split(\",\"):\n",
    "        if i == \"None\":\n",
    "            male_interest_num.append(0)\n",
    "            continue\n",
    "        name = i.split(\"_\")[1]\n",
    "        if name == \"篆刻\":\n",
    "            continue\n",
    "        if name == \"西班牙文\":\n",
    "            male_interest_num.append(47)\n",
    "            male_interest_num.append(48)\n",
    "            continue\n",
    "        if name == \"更多投資理財\":\n",
    "            male_interest_num.append(id for id in investment)\n",
    "            male_interest_num.append(81)\n",
    "            continue\n",
    "        if name == \"比特幣\":\n",
    "            male_interest_num.append(id for id in investment)\n",
    "            male_interest_num.append(id for id in crypto_coin)\n",
    "            continue\n",
    "        male_interest_num.append(subgroups2idx[name])\n",
    "\n",
    "for interest in female_interest_list:\n",
    "    for i in interest.split(\",\"):\n",
    "        if i == \"None\":\n",
    "            female_interest_num.append(0)\n",
    "            continue\n",
    "        name = i.split(\"_\")[1]\n",
    "        if name == \"篆刻\":\n",
    "            continue\n",
    "        if name == \"西班牙文\":\n",
    "            female_interest_num.append(47)\n",
    "            female_interest_num.append(48)\n",
    "            continue\n",
    "        if name == \"更多投資理財\":\n",
    "            female_interest_num.append(id for id in investment)\n",
    "            female_interest_num.append(81)\n",
    "            continue\n",
    "        if name == \"比特幣\":\n",
    "            female_interest_num.append(id for id in investment)\n",
    "            female_interest_num.append(id for id in crypto_coin)\n",
    "            continue\n",
    "        female_interest_num.append(subgroups2idx[name])"
   ]
  },
  {
   "cell_type": "code",
   "execution_count": 113,
   "metadata": {},
   "outputs": [
    {
     "data": {
      "image/png": "[encoded data removed]",
      "text/plain": [
       "<Figure size 1008x432 with 3 Axes>"
      ]
     },
     "metadata": {
      "needs_background": "light"
     },
     "output_type": "display_data"
    }
   ],
   "source": [
    "fig, axes = plt.subplots(nrows=1, ncols=3, figsize=(14,6))\n",
    "\n",
    "male_interest_plot = pd.DataFrame(Counter(male_interest_num).most_common(15), columns=['interests', 'total'])\n",
    "female_interest_plot = pd.DataFrame(Counter(female_interest_num).most_common(15), columns=['interests', 'total'])\n",
    "other_interest_plot = pd.DataFrame(Counter(other_interest_num).most_common(15), columns=['interests', 'total'])\n",
    "ax1 = sns.barplot(data=male_interest_plot, x='interests', y='total', ax=axes[0], palette=['#06837f', '#02cecb', '#b4ffff', '#f8e16c', '#fed811'])\n",
    "ax2 = sns.barplot(data=female_interest_plot, x='interests', y='total', ax=axes[1], palette=['#06837f', '#02cecb', '#b4ffff', '#f8e16c', '#fed811'])\n",
    "ax3 = sns.barplot(data=other_interest_plot, x='interests', y='total', ax=axes[2], palette=['#06837f', '#02cecb', '#b4ffff', '#f8e16c', '#fed811'])\n",
    "ax1.set_title('Top 15 interests in Male', fontsize=18, weight=600, color='#333d29')\n",
    "ax2.set_title('Top 15 interests in Female', fontsize=18, weight=600, color='#333d29')\n",
    "ax3.set_title('Top 15 interests in Other', fontsize=18, weight=600, color='#333d29')\n",
    "sns.despine()"
   ]
  }
 ],
 "metadata": {
  "kernelspec": {
   "display_name": "Python 3.9.5 64-bit",
   "language": "python",
   "name": "python3"
  },
  "language_info": {
   "codemirror_mode": {
    "name": "ipython",
    "version": 3
   },
   "file_extension": ".py",
   "mimetype": "text/x-python",
   "name": "python",
   "nbconvert_exporter": "python",
   "pygments_lexer": "ipython3",
   "version": "3.9.5"
  },
  "orig_nbformat": 4,
  "vscode": {
   "interpreter": {
    "hash": "fc2743eb24cc430a3d3cfe49840ea89731f19d626a15477f702796e91901fede"
   }
  }
 },
 "nbformat": 4,
 "nbformat_minor": 2
}
