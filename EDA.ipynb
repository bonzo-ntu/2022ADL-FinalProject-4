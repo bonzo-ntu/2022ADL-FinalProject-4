{
 "cells": [
  {
   "cell_type": "code",
   "execution_count": 88,
   "metadata": {},
   "outputs": [],
   "source": [
    "import matplotlib.pyplot as plt\n",
    "%matplotlib inline\n",
    "import pandas as pd\n",
    "import numpy as np\n",
    "\n",
    "from IPython.display import display, HTML"
   ]
  },
  {
   "cell_type": "code",
   "execution_count": 63,
   "metadata": {},
   "outputs": [],
   "source": [
    "course_chapter_items_df = pd.read_csv('./data/course_chapter_items.csv')\n",
    "course_df = pd.read_csv('./data/courses.csv')\n",
    "users_df = pd.read_csv('./data/users.csv')\n",
    "subgroups_df = pd.read_csv('./data/subgroups.csv')\n",
    "\n",
    "train_group_df = pd.read_csv('./data/train_group.csv')\n",
    "test_seen_group_df = pd.read_csv('./data/test_seen_group.csv')\n",
    "val_seen_group_df = pd.read_csv('./data/val_seen_group.csv')\n",
    "test_unseen_group_df = pd.read_csv('./data/test_unseen_group.csv')\n",
    "val_unseen_group_df = pd.read_csv('./data/val_unseen_group.csv')\n",
    "\n",
    "train_df = pd.read_csv('./data/train.csv')\n",
    "test_seen_df = pd.read_csv('./data/test_seen.csv')\n",
    "val_seen_df = pd.read_csv('./data/val_seen.csv')\n",
    "test_unseen_df = pd.read_csv('./data/test_unseen.csv')\n",
    "val_unseen_df = pd.read_csv('./data/val_unseen.csv')"
   ]
  },
  {
   "cell_type": "markdown",
   "metadata": {},
   "source": [
    "## 自建工具"
   ]
  },
  {
   "cell_type": "code",
   "execution_count": 193,
   "metadata": {},
   "outputs": [],
   "source": [
    "def check_row_number_with_unique_amount(df, df_name, column):\n",
    "    nrow = df.shape[0]\n",
    "    nunique = pd.unique(df.loc[:,column]).shape[0]\n",
    "    msg = f'dataframe {df_name} row number != unique {column} amount'\n",
    "    assert nrow == nunique, msg\n",
    "    print(f'dataframe {df_name} row number == unique {column} amount ({nrow} == {nunique})')\n",
    "\n",
    "def check_unique_items_are_same_set(df1, df1_name, df1_column, df2, df2_name, df2_column):\n",
    "    df1_set = set(df1.loc[:,df1_column].to_list())\n",
    "    df2_set = set(df2.loc[:,df2_column].to_list())\n",
    "    diff = df1_set.symmetric_difference(df2_set)\n",
    "    msg = f'unique {df1_name}.{df1_column} & unique {df2_name}.{df2_column} are different'\n",
    "    assert len(diff) == 0, msg\n",
    "    print(f'unique {df1_name}.{df1_column} & unique {df2_name}.{df2_column} are the same')\n",
    "\n",
    "def long_series_fold_view(series, nrow=10, index_start_from=0):\n",
    "    series = series.to_list()\n",
    "    sta = 0 \n",
    "    length = len(series)\n",
    "    clips = []\n",
    "    col_names = []\n",
    "    for end in range(0, length, nrow):\n",
    "        if end == 0:\n",
    "            continue\n",
    "        clips.append(series[sta :end])\n",
    "        col_names.append(f\"{sta+index_start_from}_{end+index_start_from-1}\")\n",
    "        sta = end\n",
    "    else:\n",
    "        if end < length:\n",
    "            clips.append(series[end:])\n",
    "            clips[-1] += [None]*(nrow-(length-end) )\n",
    "            col_names.append(f\"{end}_{end+nrow}\")\n",
    "\n",
    "    df = pd.DataFrame({f\"{col_name}\": clip for col_name, clip in zip(col_names, clips)})\n",
    "    df.index = df.index + index_start_from\n",
    "\n",
    "    return df\n",
    "\n",
    "def sub_eda1(df, columns):\n",
    "    for column in columns:\n",
    "        view=df[[column]].describe()\n",
    "        display(view)\n",
    "\n",
    "        N = df[column].describe()['max']\n",
    "        N = int(N)\n",
    "        ax = df.plot.hist(column=[column], bins=100, xticks=range(0,N,100), figsize=(20,5), title=column)\n",
    "        ax.tick_params(axis='x', rotation=45)\n",
    "\n",
    "def sub_eda2(df, columns):\n",
    "    for column in columns:\n",
    "        print(f'column: {columns}')\n",
    "        print(f'.describe():')\n",
    "        view = df[[column]].describe()\n",
    "        display(view)\n",
    "\n",
    "        print(f'.value_counts().describe():')\n",
    "        view = pd.DataFrame({column:df[column].value_counts()}).describe()\n",
    "        display(view)\n",
    "\n",
    "        print(f'.value_counts() fold view:')\n",
    "        view = long_series_fold_view(df[column].value_counts(), nrow=10, index_start_from=1)\n",
    "        display(view)\n",
    "        \n",
    "        print(f'.value_counts().plot()')\n",
    "        df[column].value_counts().plot(figsize=(20,5))\n",
    "        plt.show()\n"
   ]
  },
  {
   "cell_type": "markdown",
   "metadata": {},
   "source": [
    "## NaN 檢查"
   ]
  },
  {
   "cell_type": "code",
   "execution_count": 128,
   "metadata": {},
   "outputs": [
    {
     "data": {
      "text/html": [
       "<div>\n",
       "<style scoped>\n",
       "    .dataframe tbody tr th:only-of-type {\n",
       "        vertical-align: middle;\n",
       "    }\n",
       "\n",
       "    .dataframe tbody tr th {\n",
       "        vertical-align: top;\n",
       "    }\n",
       "\n",
       "    .dataframe thead th {\n",
       "        text-align: right;\n",
       "    }\n",
       "</style>\n",
       "<table border=\"1\" class=\"dataframe\">\n",
       "  <thead>\n",
       "    <tr style=\"text-align: right;\">\n",
       "      <th></th>\n",
       "      <th>df_name</th>\n",
       "      <th>nans</th>\n",
       "    </tr>\n",
       "  </thead>\n",
       "  <tbody>\n",
       "    <tr>\n",
       "      <th>0</th>\n",
       "      <td>course_chapter_items</td>\n",
       "      <td>2029</td>\n",
       "    </tr>\n",
       "    <tr>\n",
       "      <th>1</th>\n",
       "      <td>course</td>\n",
       "      <td>69</td>\n",
       "    </tr>\n",
       "    <tr>\n",
       "      <th>2</th>\n",
       "      <td>users</td>\n",
       "      <td>293146</td>\n",
       "    </tr>\n",
       "    <tr>\n",
       "      <th>3</th>\n",
       "      <td>subgroups</td>\n",
       "      <td>0</td>\n",
       "    </tr>\n",
       "    <tr>\n",
       "      <th>4</th>\n",
       "      <td>train_group</td>\n",
       "      <td>705</td>\n",
       "    </tr>\n",
       "    <tr>\n",
       "      <th>5</th>\n",
       "      <td>test_seen_group</td>\n",
       "      <td>0</td>\n",
       "    </tr>\n",
       "    <tr>\n",
       "      <th>6</th>\n",
       "      <td>val_seen_group</td>\n",
       "      <td>33</td>\n",
       "    </tr>\n",
       "    <tr>\n",
       "      <th>7</th>\n",
       "      <td>test_unseen_group</td>\n",
       "      <td>0</td>\n",
       "    </tr>\n",
       "    <tr>\n",
       "      <th>8</th>\n",
       "      <td>val_unseen_group</td>\n",
       "      <td>96</td>\n",
       "    </tr>\n",
       "    <tr>\n",
       "      <th>9</th>\n",
       "      <td>train</td>\n",
       "      <td>0</td>\n",
       "    </tr>\n",
       "    <tr>\n",
       "      <th>10</th>\n",
       "      <td>test_seen</td>\n",
       "      <td>0</td>\n",
       "    </tr>\n",
       "    <tr>\n",
       "      <th>11</th>\n",
       "      <td>val_seen</td>\n",
       "      <td>0</td>\n",
       "    </tr>\n",
       "    <tr>\n",
       "      <th>12</th>\n",
       "      <td>test_unseen</td>\n",
       "      <td>0</td>\n",
       "    </tr>\n",
       "    <tr>\n",
       "      <th>13</th>\n",
       "      <td>val_unseen</td>\n",
       "      <td>0</td>\n",
       "    </tr>\n",
       "  </tbody>\n",
       "</table>\n",
       "</div>"
      ],
      "text/plain": [
       "                 df_name    nans\n",
       "0   course_chapter_items    2029\n",
       "1                 course      69\n",
       "2                  users  293146\n",
       "3              subgroups       0\n",
       "4            train_group     705\n",
       "5        test_seen_group       0\n",
       "6         val_seen_group      33\n",
       "7      test_unseen_group       0\n",
       "8       val_unseen_group      96\n",
       "9                  train       0\n",
       "10             test_seen       0\n",
       "11              val_seen       0\n",
       "12           test_unseen       0\n",
       "13            val_unseen       0"
      ]
     },
     "execution_count": 128,
     "metadata": {},
     "output_type": "execute_result"
    }
   ],
   "source": [
    "course_chapter_items_df_nans = course_chapter_items_df.isnull().sum().sum()\n",
    "course_df_nans = course_df.isnull().sum().sum()\n",
    "users_df_nans = users_df.isnull().sum().sum()\n",
    "subgroups_df_nans = subgroups_df.isnull().sum().sum()\n",
    "\n",
    "train_group_df_nans = train_group_df.isnull().sum().sum()\n",
    "test_seen_group_df_nans = test_seen_group_df.isnull().sum().sum()\n",
    "val_seen_group_df_nans = val_seen_group_df.isnull().sum().sum()\n",
    "test_unseen_group_df_nans = test_unseen_group_df.isnull().sum().sum()\n",
    "val_unseen_group_df_nans = val_unseen_group_df.isnull().sum().sum()\n",
    "\n",
    "train_df_nans = train_df.isnull().sum().sum()\n",
    "test_seen_df_nans = test_seen_df.isnull().sum().sum()\n",
    "val_seen_df_nans = val_seen_df.isnull().sum().sum()\n",
    "test_unseen_df_nans = test_unseen_df.isnull().sum().sum()\n",
    "val_unseen_df_nans = val_unseen_df.isnull().sum().sum()\n",
    "\n",
    "pd.DataFrame({'df_name':[    \n",
    "    \"course_chapter_items\", \n",
    "    \"course\", \n",
    "    \"users\", \n",
    "    \"subgroups\", \n",
    "    \"train_group\",\n",
    "    \"test_seen_group\", \n",
    "    \"val_seen_group\", \n",
    "    \"test_unseen_group\", \n",
    "    \"val_unseen_group\", \n",
    "    \"train\", \n",
    "    \"test_seen\", \n",
    "    \"val_seen\", \n",
    "    \"test_unseen\", \n",
    "    \"val_unseen\"], 'nans':[\n",
    "    course_chapter_items_df_nans, \n",
    "    course_df_nans, \n",
    "    users_df_nans, \n",
    "    subgroups_df_nans, \n",
    "    train_group_df_nans,\n",
    "    test_seen_group_df_nans, \n",
    "    val_seen_group_df_nans, \n",
    "    test_unseen_group_df_nans, \n",
    "    val_unseen_group_df_nans, \n",
    "    train_df_nans, \n",
    "    test_seen_df_nans, \n",
    "    val_seen_df_nans, \n",
    "    test_unseen_df_nans, \n",
    "    val_unseen_df_nans]})"
   ]
  },
  {
   "cell_type": "code",
   "execution_count": 129,
   "metadata": {},
   "outputs": [
    {
     "data": {
      "text/plain": [
       "course_id                     0\n",
       "chapter_no                    0\n",
       "chapter_id                    0\n",
       "chapter_name                103\n",
       "chapter_item_id               0\n",
       "chapter_item_no               0\n",
       "chapter_item_name             7\n",
       "chapter_item_type             0\n",
       "video_length_in_seconds    1919\n",
       "dtype: int64"
      ]
     },
     "execution_count": 129,
     "metadata": {},
     "output_type": "execute_result"
    }
   ],
   "source": [
    "course_chapter_items_df.isnull().sum()"
   ]
  },
  {
   "cell_type": "code",
   "execution_count": 130,
   "metadata": {},
   "outputs": [
    {
     "data": {
      "text/plain": [
       "user_id                   0\n",
       "gender                45195\n",
       "occupation_titles    101510\n",
       "interests             47810\n",
       "recreation_names      98631\n",
       "dtype: int64"
      ]
     },
     "execution_count": 130,
     "metadata": {},
     "output_type": "execute_result"
    }
   ],
   "source": [
    "users_df.isnull().sum()"
   ]
  },
  {
   "cell_type": "code",
   "execution_count": 131,
   "metadata": {},
   "outputs": [
    {
     "data": {
      "text/plain": [
       "user_id       0\n",
       "subgroup    705\n",
       "dtype: int64"
      ]
     },
     "execution_count": 131,
     "metadata": {},
     "output_type": "execute_result"
    }
   ],
   "source": [
    "\n",
    "train_group_df.isnull().sum()"
   ]
  },
  {
   "cell_type": "code",
   "execution_count": 132,
   "metadata": {},
   "outputs": [
    {
     "data": {
      "text/plain": [
       "user_id      0\n",
       "subgroup    33\n",
       "dtype: int64"
      ]
     },
     "execution_count": 132,
     "metadata": {},
     "output_type": "execute_result"
    }
   ],
   "source": [
    "val_seen_group_df.isnull().sum()"
   ]
  },
  {
   "cell_type": "code",
   "execution_count": 133,
   "metadata": {},
   "outputs": [
    {
     "data": {
      "text/plain": [
       "user_id      0\n",
       "subgroup    96\n",
       "dtype: int64"
      ]
     },
     "execution_count": 133,
     "metadata": {},
     "output_type": "execute_result"
    }
   ],
   "source": [
    "val_unseen_group_df.isnull().sum()"
   ]
  },
  {
   "cell_type": "markdown",
   "metadata": {},
   "source": [
    "## 基本資料檢查"
   ]
  },
  {
   "cell_type": "code",
   "execution_count": 134,
   "metadata": {},
   "outputs": [
    {
     "ename": "AssertionError",
     "evalue": "amount of unique coursd_id unmatch in course_df, course_chapter_items_df (728 != 727)",
     "output_type": "error",
     "traceback": [
      "\u001b[0;31m---------------------------------------------------------------------------\u001b[0m",
      "\u001b[0;31mAssertionError\u001b[0m                            Traceback (most recent call last)",
      "Cell \u001b[0;32mIn[134], line 4\u001b[0m\n\u001b[1;32m      2\u001b[0m course_chapter_items_df_cid \u001b[39m=\u001b[39m pd\u001b[39m.\u001b[39munique(course_chapter_items_df\u001b[39m.\u001b[39mcourse_id)\u001b[39m.\u001b[39mshape[\u001b[39m0\u001b[39m]\n\u001b[1;32m      3\u001b[0m msg \u001b[39m=\u001b[39m \u001b[39mf\u001b[39m\u001b[39m'\u001b[39m\u001b[39mamount of unique coursd_id unmatch in course_df, course_chapter_items_df (\u001b[39m\u001b[39m{\u001b[39;00mcourse_df_cid\u001b[39m}\u001b[39;00m\u001b[39m != \u001b[39m\u001b[39m{\u001b[39;00mcourse_chapter_items_df_cid\u001b[39m}\u001b[39;00m\u001b[39m)\u001b[39m\u001b[39m'\u001b[39m\n\u001b[0;32m----> 4\u001b[0m \u001b[39massert\u001b[39;00m course_df_cid \u001b[39m==\u001b[39m course_chapter_items_df_cid, msg\n",
      "\u001b[0;31mAssertionError\u001b[0m: amount of unique coursd_id unmatch in course_df, course_chapter_items_df (728 != 727)"
     ]
    }
   ],
   "source": [
    "course_df_cid = pd.unique(course_df.course_id).shape[0]\n",
    "course_chapter_items_df_cid = pd.unique(course_chapter_items_df.course_id).shape[0]\n",
    "msg = f'amount of unique coursd_id unmatch in course_df, course_chapter_items_df ({course_df_cid} != {course_chapter_items_df_cid})'\n",
    "assert course_df_cid == course_chapter_items_df_cid, msg"
   ]
  },
  {
   "cell_type": "code",
   "execution_count": 135,
   "metadata": {},
   "outputs": [
    {
     "name": "stdout",
     "output_type": "stream",
     "text": [
      "unique subgroup id:91\n",
      "unique user id: 130566\n",
      "train_df, train_group_df have the same unique user_id set\n",
      "unique train_df.user_id & unique train_group_df.user_id are the same\n",
      "dataframe train_df row number == unique user_id amount (59737 == 59737)\n",
      "dataframe train_group_df row number == unique user_id amount (59737 == 59737)\n"
     ]
    }
   ],
   "source": [
    "subgroups_df_sid = pd.unique(subgroups_df.subgroup_id).shape[0]\n",
    "users_df_uid = pd.unique(users_df.user_id).shape[0]\n",
    "print(f'unique subgroup id:{subgroups_df_sid}')\n",
    "print(f'unique user id: {users_df_uid}')\n",
    "\n",
    "\n",
    "train_df_uid_set = set(train_df.user_id.to_list())\n",
    "train_group_df_uid_set = set(train_group_df.user_id.to_list())\n",
    "identical_set = train_df_uid_set.symmetric_difference(train_group_df_uid_set)\n",
    "msg = f'unique user_id not the same set in train_df, train_group_df'\n",
    "assert len(identical_set) == 0, msg\n",
    "print(f'train_df, train_group_df have the same unique user_id set')\n",
    "\n",
    "check_unique_items_are_same_set(train_df, 'train_df', 'user_id', train_group_df, 'train_group_df', 'user_id')\n",
    "check_row_number_with_unique_amount(train_df, 'train_df', 'user_id')\n",
    "check_row_number_with_unique_amount(train_group_df, 'train_group_df', 'user_id')"
   ]
  },
  {
   "cell_type": "markdown",
   "metadata": {},
   "source": [
    "# 檢驗相同的users在train中購買的subgroups有多少比例 valid的時候也有購買(course的為0，不會重複購買)"
   ]
  },
  {
   "cell_type": "code",
   "execution_count": 136,
   "metadata": {},
   "outputs": [
    {
     "name": "stdout",
     "output_type": "stream",
     "text": [
      "mean continue_to_buy_ratio: 0.17182368307771648\n"
     ]
    }
   ],
   "source": [
    "#train_group_df = pd.read_csv('./data/train_group.csv')\n",
    "#val_seen_group_df = pd.read_csv('./data/val_seen_group.csv')\n",
    "continue_to_buy_ratio = []\n",
    "for i, val_user_id in enumerate(val_seen_group_df[\"user_id\"]):\n",
    "    val_user_subgroups = str(val_seen_group_df[\"subgroup\"][i]).split()\n",
    "    index_in_train_df = train_group_df[train_group_df[\"user_id\"] == val_user_id].index.tolist()[0]\n",
    "    train_user_subgroups = str(train_group_df.at[index_in_train_df, 'subgroup']).split()\n",
    "    #print(val_user_subgroups)\n",
    "    #print(train_user_subgroups)\n",
    "    continue_to_buy = 0\n",
    "    for train_user_subgroup in train_user_subgroups:\n",
    "        if train_user_subgroup in val_user_subgroups:\n",
    "            continue_to_buy += 1\n",
    "    continue_to_buy_ratio.append(continue_to_buy/len(train_user_subgroups))\n",
    "print(f\"mean continue_to_buy_ratio: {sum(continue_to_buy_ratio)/len(continue_to_buy_ratio)}\")\n"
   ]
  },
  {
   "cell_type": "markdown",
   "metadata": {},
   "source": [
    "# 敘述統計"
   ]
  },
  {
   "cell_type": "markdown",
   "metadata": {},
   "source": [
    "## course_chapter_items"
   ]
  },
  {
   "cell_type": "markdown",
   "metadata": {},
   "source": [
    "#### video_length_in_seconds"
   ]
  },
  {
   "cell_type": "code",
   "execution_count": 194,
   "metadata": {},
   "outputs": [
    {
     "data": {
      "text/html": [
       "<div>\n",
       "<style scoped>\n",
       "    .dataframe tbody tr th:only-of-type {\n",
       "        vertical-align: middle;\n",
       "    }\n",
       "\n",
       "    .dataframe tbody tr th {\n",
       "        vertical-align: top;\n",
       "    }\n",
       "\n",
       "    .dataframe thead th {\n",
       "        text-align: right;\n",
       "    }\n",
       "</style>\n",
       "<table border=\"1\" class=\"dataframe\">\n",
       "  <thead>\n",
       "    <tr style=\"text-align: right;\">\n",
       "      <th></th>\n",
       "      <th>video_length_in_seconds</th>\n",
       "    </tr>\n",
       "  </thead>\n",
       "  <tbody>\n",
       "    <tr>\n",
       "      <th>count</th>\n",
       "      <td>19371.000000</td>\n",
       "    </tr>\n",
       "    <tr>\n",
       "      <th>mean</th>\n",
       "      <td>676.775592</td>\n",
       "    </tr>\n",
       "    <tr>\n",
       "      <th>std</th>\n",
       "      <td>575.299559</td>\n",
       "    </tr>\n",
       "    <tr>\n",
       "      <th>min</th>\n",
       "      <td>2.000000</td>\n",
       "    </tr>\n",
       "    <tr>\n",
       "      <th>25%</th>\n",
       "      <td>312.000000</td>\n",
       "    </tr>\n",
       "    <tr>\n",
       "      <th>50%</th>\n",
       "      <td>533.000000</td>\n",
       "    </tr>\n",
       "    <tr>\n",
       "      <th>75%</th>\n",
       "      <td>857.000000</td>\n",
       "    </tr>\n",
       "    <tr>\n",
       "      <th>max</th>\n",
       "      <td>7466.000000</td>\n",
       "    </tr>\n",
       "  </tbody>\n",
       "</table>\n",
       "</div>"
      ],
      "text/plain": [
       "       video_length_in_seconds\n",
       "count             19371.000000\n",
       "mean                676.775592\n",
       "std                 575.299559\n",
       "min                   2.000000\n",
       "25%                 312.000000\n",
       "50%                 533.000000\n",
       "75%                 857.000000\n",
       "max                7466.000000"
      ]
     },
     "metadata": {},
     "output_type": "display_data"
    },
    {
     "data": {
      "image/png": "[encoded data removed]",
      "text/plain": [
       "<Figure size 2000x500 with 1 Axes>"
      ]
     },
     "metadata": {},
     "output_type": "display_data"
    }
   ],
   "source": [
    "sub_eda1(course_chapter_items_df, ['video_length_in_seconds'])"
   ]
  },
  {
   "cell_type": "code",
   "execution_count": 190,
   "metadata": {},
   "outputs": [
    {
     "data": {
      "text/plain": [
       "7466.0"
      ]
     },
     "execution_count": 190,
     "metadata": {},
     "output_type": "execute_result"
    }
   ],
   "source": [
    "course_chapter_items_df['video_length_in_seconds'].describe()['max']"
   ]
  },
  {
   "cell_type": "code",
   "execution_count": 178,
   "metadata": {},
   "outputs": [
    {
     "data": {
      "text/plain": [
       "7466.0"
      ]
     },
     "execution_count": 178,
     "metadata": {},
     "output_type": "execute_result"
    }
   ],
   "source": [
    "x = course_chapter_items_df['video_length_in_seconds'].describe()\n",
    "x['max']"
   ]
  },
  {
   "cell_type": "code",
   "execution_count": 113,
   "metadata": {},
   "outputs": [
    {
     "data": {
      "text/html": [
       "<div>\n",
       "<style scoped>\n",
       "    .dataframe tbody tr th:only-of-type {\n",
       "        vertical-align: middle;\n",
       "    }\n",
       "\n",
       "    .dataframe tbody tr th {\n",
       "        vertical-align: top;\n",
       "    }\n",
       "\n",
       "    .dataframe thead th {\n",
       "        text-align: right;\n",
       "    }\n",
       "</style>\n",
       "<table border=\"1\" class=\"dataframe\">\n",
       "  <thead>\n",
       "    <tr style=\"text-align: right;\">\n",
       "      <th></th>\n",
       "      <th>video_length_in_seconds</th>\n",
       "    </tr>\n",
       "  </thead>\n",
       "  <tbody>\n",
       "    <tr>\n",
       "      <th>count</th>\n",
       "      <td>19371.000000</td>\n",
       "    </tr>\n",
       "    <tr>\n",
       "      <th>mean</th>\n",
       "      <td>676.775592</td>\n",
       "    </tr>\n",
       "    <tr>\n",
       "      <th>std</th>\n",
       "      <td>575.299559</td>\n",
       "    </tr>\n",
       "    <tr>\n",
       "      <th>min</th>\n",
       "      <td>2.000000</td>\n",
       "    </tr>\n",
       "    <tr>\n",
       "      <th>25%</th>\n",
       "      <td>312.000000</td>\n",
       "    </tr>\n",
       "    <tr>\n",
       "      <th>50%</th>\n",
       "      <td>533.000000</td>\n",
       "    </tr>\n",
       "    <tr>\n",
       "      <th>75%</th>\n",
       "      <td>857.000000</td>\n",
       "    </tr>\n",
       "    <tr>\n",
       "      <th>max</th>\n",
       "      <td>7466.000000</td>\n",
       "    </tr>\n",
       "  </tbody>\n",
       "</table>\n",
       "</div>"
      ],
      "text/plain": [
       "       video_length_in_seconds\n",
       "count             19371.000000\n",
       "mean                676.775592\n",
       "std                 575.299559\n",
       "min                   2.000000\n",
       "25%                 312.000000\n",
       "50%                 533.000000\n",
       "75%                 857.000000\n",
       "max                7466.000000"
      ]
     },
     "metadata": {},
     "output_type": "display_data"
    },
    {
     "data": {
      "image/png": "[encoded data removed]",
      "text/plain": [
       "<Figure size 2000x500 with 1 Axes>"
      ]
     },
     "metadata": {},
     "output_type": "display_data"
    }
   ],
   "source": [
    "print()\n",
    "view=course_chapter_items_df[['video_length_in_seconds']].describe()\n",
    "display(view)\n",
    "\n",
    "ax = course_chapter_items_df.plot.hist(column=['video_length_in_seconds'], bins=100, xticks=range(0,8000,100), figsize=(20,5), title='video_length_in_seconds')\n",
    "ax.tick_params(axis='x', rotation=45)"
   ]
  },
  {
   "cell_type": "markdown",
   "metadata": {},
   "source": [
    "#### chapter_item_no"
   ]
  },
  {
   "cell_type": "code",
   "execution_count": 167,
   "metadata": {},
   "outputs": [
    {
     "data": {
      "text/html": [
       "<div>\n",
       "<style scoped>\n",
       "    .dataframe tbody tr th:only-of-type {\n",
       "        vertical-align: middle;\n",
       "    }\n",
       "\n",
       "    .dataframe tbody tr th {\n",
       "        vertical-align: top;\n",
       "    }\n",
       "\n",
       "    .dataframe thead th {\n",
       "        text-align: right;\n",
       "    }\n",
       "</style>\n",
       "<table border=\"1\" class=\"dataframe\">\n",
       "  <thead>\n",
       "    <tr style=\"text-align: right;\">\n",
       "      <th></th>\n",
       "      <th>chapter_item_no</th>\n",
       "    </tr>\n",
       "  </thead>\n",
       "  <tbody>\n",
       "    <tr>\n",
       "      <th>count</th>\n",
       "      <td>21290.000000</td>\n",
       "    </tr>\n",
       "    <tr>\n",
       "      <th>mean</th>\n",
       "      <td>9.129591</td>\n",
       "    </tr>\n",
       "    <tr>\n",
       "      <th>std</th>\n",
       "      <td>13.518396</td>\n",
       "    </tr>\n",
       "    <tr>\n",
       "      <th>min</th>\n",
       "      <td>1.000000</td>\n",
       "    </tr>\n",
       "    <tr>\n",
       "      <th>25%</th>\n",
       "      <td>2.000000</td>\n",
       "    </tr>\n",
       "    <tr>\n",
       "      <th>50%</th>\n",
       "      <td>5.000000</td>\n",
       "    </tr>\n",
       "    <tr>\n",
       "      <th>75%</th>\n",
       "      <td>10.000000</td>\n",
       "    </tr>\n",
       "    <tr>\n",
       "      <th>max</th>\n",
       "      <td>134.000000</td>\n",
       "    </tr>\n",
       "  </tbody>\n",
       "</table>\n",
       "</div>"
      ],
      "text/plain": [
       "       chapter_item_no\n",
       "count     21290.000000\n",
       "mean          9.129591\n",
       "std          13.518396\n",
       "min           1.000000\n",
       "25%           2.000000\n",
       "50%           5.000000\n",
       "75%          10.000000\n",
       "max         134.000000"
      ]
     },
     "execution_count": 167,
     "metadata": {},
     "output_type": "execute_result"
    }
   ],
   "source": [
    "course_chapter_items_df[['chapter_item_no']].describe()#.max().values.item()"
   ]
  },
  {
   "cell_type": "code",
   "execution_count": null,
   "metadata": {},
   "outputs": [],
   "source": []
  },
  {
   "cell_type": "code",
   "execution_count": 120,
   "metadata": {},
   "outputs": [
    {
     "data": {
      "text/plain": [
       "count     134.000000\n",
       "mean      158.880597\n",
       "std       494.123878\n",
       "min         1.000000\n",
       "25%         3.000000\n",
       "50%         8.500000\n",
       "75%        53.000000\n",
       "max      3080.000000\n",
       "dtype: float64"
      ]
     },
     "execution_count": 120,
     "metadata": {},
     "output_type": "execute_result"
    }
   ],
   "source": [
    "course_chapter_items_df[['chapter_item_no']].value_counts().describe()"
   ]
  },
  {
   "cell_type": "code",
   "execution_count": 121,
   "metadata": {},
   "outputs": [
    {
     "data": {
      "text/html": [
       "<div>\n",
       "<style scoped>\n",
       "    .dataframe tbody tr th:only-of-type {\n",
       "        vertical-align: middle;\n",
       "    }\n",
       "\n",
       "    .dataframe tbody tr th {\n",
       "        vertical-align: top;\n",
       "    }\n",
       "\n",
       "    .dataframe thead th {\n",
       "        text-align: right;\n",
       "    }\n",
       "</style>\n",
       "<table border=\"1\" class=\"dataframe\">\n",
       "  <thead>\n",
       "    <tr style=\"text-align: right;\">\n",
       "      <th></th>\n",
       "      <th>chapter_item_no</th>\n",
       "    </tr>\n",
       "  </thead>\n",
       "  <tbody>\n",
       "    <tr>\n",
       "      <th>count</th>\n",
       "      <td>134.000000</td>\n",
       "    </tr>\n",
       "    <tr>\n",
       "      <th>mean</th>\n",
       "      <td>158.880597</td>\n",
       "    </tr>\n",
       "    <tr>\n",
       "      <th>std</th>\n",
       "      <td>494.123878</td>\n",
       "    </tr>\n",
       "    <tr>\n",
       "      <th>min</th>\n",
       "      <td>1.000000</td>\n",
       "    </tr>\n",
       "    <tr>\n",
       "      <th>25%</th>\n",
       "      <td>3.000000</td>\n",
       "    </tr>\n",
       "    <tr>\n",
       "      <th>50%</th>\n",
       "      <td>8.500000</td>\n",
       "    </tr>\n",
       "    <tr>\n",
       "      <th>75%</th>\n",
       "      <td>53.000000</td>\n",
       "    </tr>\n",
       "    <tr>\n",
       "      <th>max</th>\n",
       "      <td>3080.000000</td>\n",
       "    </tr>\n",
       "  </tbody>\n",
       "</table>\n",
       "</div>"
      ],
      "text/plain": [
       "       chapter_item_no\n",
       "count       134.000000\n",
       "mean        158.880597\n",
       "std         494.123878\n",
       "min           1.000000\n",
       "25%           3.000000\n",
       "50%           8.500000\n",
       "75%          53.000000\n",
       "max        3080.000000"
      ]
     },
     "execution_count": 121,
     "metadata": {},
     "output_type": "execute_result"
    }
   ],
   "source": []
  },
  {
   "cell_type": "code",
   "execution_count": 102,
   "metadata": {},
   "outputs": [
    {
     "name": "stdout",
     "output_type": "stream",
     "text": [
      "column: ['chapter_item_no']\n",
      ".describe():\n"
     ]
    },
    {
     "data": {
      "text/plain": [
       "count    21290.000000\n",
       "mean         9.129591\n",
       "std         13.518396\n",
       "min          1.000000\n",
       "25%          2.000000\n",
       "50%          5.000000\n",
       "75%         10.000000\n",
       "max        134.000000\n",
       "Name: chapter_item_no, dtype: float64"
      ]
     },
     "metadata": {},
     "output_type": "display_data"
    },
    {
     "name": "stdout",
     "output_type": "stream",
     "text": [
      ".value_counts().describe():\n"
     ]
    },
    {
     "data": {
      "text/plain": [
       "count     134.000000\n",
       "mean      158.880597\n",
       "std       494.123878\n",
       "min         1.000000\n",
       "25%         3.000000\n",
       "50%         8.500000\n",
       "75%        53.000000\n",
       "max      3080.000000\n",
       "Name: chapter_item_no, dtype: float64"
      ]
     },
     "metadata": {},
     "output_type": "display_data"
    },
    {
     "name": "stdout",
     "output_type": "stream",
     "text": [
      ".value_counts() fold view:\n"
     ]
    },
    {
     "data": {
      "text/html": [
       "<div>\n",
       "<style scoped>\n",
       "    .dataframe tbody tr th:only-of-type {\n",
       "        vertical-align: middle;\n",
       "    }\n",
       "\n",
       "    .dataframe tbody tr th {\n",
       "        vertical-align: top;\n",
       "    }\n",
       "\n",
       "    .dataframe thead th {\n",
       "        text-align: right;\n",
       "    }\n",
       "</style>\n",
       "<table border=\"1\" class=\"dataframe\">\n",
       "  <thead>\n",
       "    <tr style=\"text-align: right;\">\n",
       "      <th></th>\n",
       "      <th>1_10</th>\n",
       "      <th>11_20</th>\n",
       "      <th>21_30</th>\n",
       "      <th>31_40</th>\n",
       "      <th>41_50</th>\n",
       "      <th>51_60</th>\n",
       "      <th>61_70</th>\n",
       "      <th>71_80</th>\n",
       "      <th>81_90</th>\n",
       "      <th>91_100</th>\n",
       "      <th>101_110</th>\n",
       "      <th>111_120</th>\n",
       "      <th>121_130</th>\n",
       "      <th>130_140</th>\n",
       "    </tr>\n",
       "  </thead>\n",
       "  <tbody>\n",
       "    <tr>\n",
       "      <th>1</th>\n",
       "      <td>3080</td>\n",
       "      <td>433</td>\n",
       "      <td>136</td>\n",
       "      <td>67</td>\n",
       "      <td>38</td>\n",
       "      <td>19</td>\n",
       "      <td>12</td>\n",
       "      <td>8</td>\n",
       "      <td>6</td>\n",
       "      <td>4</td>\n",
       "      <td>3</td>\n",
       "      <td>3</td>\n",
       "      <td>2</td>\n",
       "      <td>1.0</td>\n",
       "    </tr>\n",
       "    <tr>\n",
       "      <th>2</th>\n",
       "      <td>2858</td>\n",
       "      <td>371</td>\n",
       "      <td>126</td>\n",
       "      <td>59</td>\n",
       "      <td>37</td>\n",
       "      <td>18</td>\n",
       "      <td>12</td>\n",
       "      <td>8</td>\n",
       "      <td>6</td>\n",
       "      <td>4</td>\n",
       "      <td>3</td>\n",
       "      <td>3</td>\n",
       "      <td>2</td>\n",
       "      <td>1.0</td>\n",
       "    </tr>\n",
       "    <tr>\n",
       "      <th>3</th>\n",
       "      <td>2507</td>\n",
       "      <td>316</td>\n",
       "      <td>114</td>\n",
       "      <td>57</td>\n",
       "      <td>36</td>\n",
       "      <td>17</td>\n",
       "      <td>10</td>\n",
       "      <td>8</td>\n",
       "      <td>6</td>\n",
       "      <td>4</td>\n",
       "      <td>3</td>\n",
       "      <td>2</td>\n",
       "      <td>2</td>\n",
       "      <td>1.0</td>\n",
       "    </tr>\n",
       "    <tr>\n",
       "      <th>4</th>\n",
       "      <td>2082</td>\n",
       "      <td>279</td>\n",
       "      <td>104</td>\n",
       "      <td>54</td>\n",
       "      <td>34</td>\n",
       "      <td>17</td>\n",
       "      <td>10</td>\n",
       "      <td>8</td>\n",
       "      <td>5</td>\n",
       "      <td>3</td>\n",
       "      <td>3</td>\n",
       "      <td>2</td>\n",
       "      <td>1</td>\n",
       "      <td>1.0</td>\n",
       "    </tr>\n",
       "    <tr>\n",
       "      <th>5</th>\n",
       "      <td>1635</td>\n",
       "      <td>248</td>\n",
       "      <td>97</td>\n",
       "      <td>50</td>\n",
       "      <td>33</td>\n",
       "      <td>17</td>\n",
       "      <td>9</td>\n",
       "      <td>8</td>\n",
       "      <td>5</td>\n",
       "      <td>3</td>\n",
       "      <td>3</td>\n",
       "      <td>2</td>\n",
       "      <td>1</td>\n",
       "      <td>NaN</td>\n",
       "    </tr>\n",
       "    <tr>\n",
       "      <th>6</th>\n",
       "      <td>1304</td>\n",
       "      <td>227</td>\n",
       "      <td>92</td>\n",
       "      <td>46</td>\n",
       "      <td>29</td>\n",
       "      <td>16</td>\n",
       "      <td>9</td>\n",
       "      <td>8</td>\n",
       "      <td>5</td>\n",
       "      <td>3</td>\n",
       "      <td>3</td>\n",
       "      <td>2</td>\n",
       "      <td>1</td>\n",
       "      <td>NaN</td>\n",
       "    </tr>\n",
       "    <tr>\n",
       "      <th>7</th>\n",
       "      <td>1005</td>\n",
       "      <td>203</td>\n",
       "      <td>87</td>\n",
       "      <td>46</td>\n",
       "      <td>28</td>\n",
       "      <td>15</td>\n",
       "      <td>9</td>\n",
       "      <td>7</td>\n",
       "      <td>5</td>\n",
       "      <td>3</td>\n",
       "      <td>3</td>\n",
       "      <td>2</td>\n",
       "      <td>1</td>\n",
       "      <td>NaN</td>\n",
       "    </tr>\n",
       "    <tr>\n",
       "      <th>8</th>\n",
       "      <td>785</td>\n",
       "      <td>187</td>\n",
       "      <td>77</td>\n",
       "      <td>44</td>\n",
       "      <td>23</td>\n",
       "      <td>14</td>\n",
       "      <td>8</td>\n",
       "      <td>7</td>\n",
       "      <td>5</td>\n",
       "      <td>3</td>\n",
       "      <td>3</td>\n",
       "      <td>2</td>\n",
       "      <td>1</td>\n",
       "      <td>NaN</td>\n",
       "    </tr>\n",
       "    <tr>\n",
       "      <th>9</th>\n",
       "      <td>638</td>\n",
       "      <td>175</td>\n",
       "      <td>74</td>\n",
       "      <td>43</td>\n",
       "      <td>23</td>\n",
       "      <td>14</td>\n",
       "      <td>8</td>\n",
       "      <td>6</td>\n",
       "      <td>5</td>\n",
       "      <td>3</td>\n",
       "      <td>3</td>\n",
       "      <td>2</td>\n",
       "      <td>1</td>\n",
       "      <td>NaN</td>\n",
       "    </tr>\n",
       "    <tr>\n",
       "      <th>10</th>\n",
       "      <td>536</td>\n",
       "      <td>155</td>\n",
       "      <td>72</td>\n",
       "      <td>39</td>\n",
       "      <td>19</td>\n",
       "      <td>12</td>\n",
       "      <td>8</td>\n",
       "      <td>6</td>\n",
       "      <td>4</td>\n",
       "      <td>3</td>\n",
       "      <td>3</td>\n",
       "      <td>2</td>\n",
       "      <td>1</td>\n",
       "      <td>NaN</td>\n",
       "    </tr>\n",
       "  </tbody>\n",
       "</table>\n",
       "</div>"
      ],
      "text/plain": [
       "    1_10  11_20  21_30  31_40  41_50  51_60  61_70  71_80  81_90  91_100  \\\n",
       "1   3080    433    136     67     38     19     12      8      6       4   \n",
       "2   2858    371    126     59     37     18     12      8      6       4   \n",
       "3   2507    316    114     57     36     17     10      8      6       4   \n",
       "4   2082    279    104     54     34     17     10      8      5       3   \n",
       "5   1635    248     97     50     33     17      9      8      5       3   \n",
       "6   1304    227     92     46     29     16      9      8      5       3   \n",
       "7   1005    203     87     46     28     15      9      7      5       3   \n",
       "8    785    187     77     44     23     14      8      7      5       3   \n",
       "9    638    175     74     43     23     14      8      6      5       3   \n",
       "10   536    155     72     39     19     12      8      6      4       3   \n",
       "\n",
       "    101_110  111_120  121_130  130_140  \n",
       "1         3        3        2      1.0  \n",
       "2         3        3        2      1.0  \n",
       "3         3        2        2      1.0  \n",
       "4         3        2        1      1.0  \n",
       "5         3        2        1      NaN  \n",
       "6         3        2        1      NaN  \n",
       "7         3        2        1      NaN  \n",
       "8         3        2        1      NaN  \n",
       "9         3        2        1      NaN  \n",
       "10        3        2        1      NaN  "
      ]
     },
     "metadata": {},
     "output_type": "display_data"
    },
    {
     "name": "stdout",
     "output_type": "stream",
     "text": [
      ".value_counts().plot()\n"
     ]
    },
    {
     "data": {
      "image/png": "[encoded data removed]",
      "text/plain": [
       "<Figure size 2000x500 with 1 Axes>"
      ]
     },
     "metadata": {},
     "output_type": "display_data"
    }
   ],
   "source": [
    "sub_eda1(course_chapter_items_df, ['chapter_item_no'])"
   ]
  },
  {
   "cell_type": "markdown",
   "metadata": {},
   "source": [
    "#### chapter_no\t"
   ]
  },
  {
   "cell_type": "code",
   "execution_count": 103,
   "metadata": {},
   "outputs": [
    {
     "name": "stdout",
     "output_type": "stream",
     "text": [
      "column: ['chapter_no']\n",
      ".describe():\n"
     ]
    },
    {
     "data": {
      "text/plain": [
       "count    21290.000000\n",
       "mean         3.278018\n",
       "std          3.062744\n",
       "min          1.000000\n",
       "25%          1.000000\n",
       "50%          2.000000\n",
       "75%          4.000000\n",
       "max         20.000000\n",
       "Name: chapter_no, dtype: float64"
      ]
     },
     "metadata": {},
     "output_type": "display_data"
    },
    {
     "name": "stdout",
     "output_type": "stream",
     "text": [
      ".value_counts().describe():\n"
     ]
    },
    {
     "data": {
      "text/plain": [
       "count      20.000000\n",
       "mean     1064.500000\n",
       "std      1983.003902\n",
       "min        20.000000\n",
       "25%        63.250000\n",
       "50%       275.000000\n",
       "75%      1088.250000\n",
       "max      8570.000000\n",
       "Name: chapter_no, dtype: float64"
      ]
     },
     "metadata": {},
     "output_type": "display_data"
    },
    {
     "name": "stdout",
     "output_type": "stream",
     "text": [
      ".value_counts() fold view:\n"
     ]
    },
    {
     "data": {
      "text/html": [
       "<div>\n",
       "<style scoped>\n",
       "    .dataframe tbody tr th:only-of-type {\n",
       "        vertical-align: middle;\n",
       "    }\n",
       "\n",
       "    .dataframe tbody tr th {\n",
       "        vertical-align: top;\n",
       "    }\n",
       "\n",
       "    .dataframe thead th {\n",
       "        text-align: right;\n",
       "    }\n",
       "</style>\n",
       "<table border=\"1\" class=\"dataframe\">\n",
       "  <thead>\n",
       "    <tr style=\"text-align: right;\">\n",
       "      <th></th>\n",
       "      <th>1_10</th>\n",
       "      <th>10_20</th>\n",
       "    </tr>\n",
       "  </thead>\n",
       "  <tbody>\n",
       "    <tr>\n",
       "      <th>1</th>\n",
       "      <td>8570</td>\n",
       "      <td>253</td>\n",
       "    </tr>\n",
       "    <tr>\n",
       "      <th>2</th>\n",
       "      <td>2968</td>\n",
       "      <td>122</td>\n",
       "    </tr>\n",
       "    <tr>\n",
       "      <th>3</th>\n",
       "      <td>2668</td>\n",
       "      <td>99</td>\n",
       "    </tr>\n",
       "    <tr>\n",
       "      <th>4</th>\n",
       "      <td>1955</td>\n",
       "      <td>87</td>\n",
       "    </tr>\n",
       "    <tr>\n",
       "      <th>5</th>\n",
       "      <td>1476</td>\n",
       "      <td>65</td>\n",
       "    </tr>\n",
       "    <tr>\n",
       "      <th>6</th>\n",
       "      <td>959</td>\n",
       "      <td>58</td>\n",
       "    </tr>\n",
       "    <tr>\n",
       "      <th>7</th>\n",
       "      <td>692</td>\n",
       "      <td>41</td>\n",
       "    </tr>\n",
       "    <tr>\n",
       "      <th>8</th>\n",
       "      <td>514</td>\n",
       "      <td>39</td>\n",
       "    </tr>\n",
       "    <tr>\n",
       "      <th>9</th>\n",
       "      <td>381</td>\n",
       "      <td>26</td>\n",
       "    </tr>\n",
       "    <tr>\n",
       "      <th>10</th>\n",
       "      <td>297</td>\n",
       "      <td>20</td>\n",
       "    </tr>\n",
       "  </tbody>\n",
       "</table>\n",
       "</div>"
      ],
      "text/plain": [
       "    1_10  10_20\n",
       "1   8570    253\n",
       "2   2968    122\n",
       "3   2668     99\n",
       "4   1955     87\n",
       "5   1476     65\n",
       "6    959     58\n",
       "7    692     41\n",
       "8    514     39\n",
       "9    381     26\n",
       "10   297     20"
      ]
     },
     "metadata": {},
     "output_type": "display_data"
    },
    {
     "name": "stdout",
     "output_type": "stream",
     "text": [
      ".value_counts().plot()\n"
     ]
    },
    {
     "data": {
      "image/png": "[encoded data removed]",
      "text/plain": [
       "<Figure size 2000x500 with 1 Axes>"
      ]
     },
     "metadata": {},
     "output_type": "display_data"
    }
   ],
   "source": [
    "sub_eda1(course_chapter_items_df, ['chapter_no'])"
   ]
  },
  {
   "cell_type": "code",
   "execution_count": 108,
   "metadata": {},
   "outputs": [
    {
     "data": {
      "text/plain": [
       "(21290, 727)"
      ]
     },
     "execution_count": 108,
     "metadata": {},
     "output_type": "execute_result"
    }
   ],
   "source": [
    "course_chapter_items_df.shape[0], pd.unique(course_chapter_items_df.course_id).shape[0]"
   ]
  },
  {
   "cell_type": "code",
   "execution_count": 112,
   "metadata": {},
   "outputs": [
    {
     "data": {
      "text/html": [
       "<div>\n",
       "<style scoped>\n",
       "    .dataframe tbody tr th:only-of-type {\n",
       "        vertical-align: middle;\n",
       "    }\n",
       "\n",
       "    .dataframe tbody tr th {\n",
       "        vertical-align: top;\n",
       "    }\n",
       "\n",
       "    .dataframe thead th {\n",
       "        text-align: right;\n",
       "    }\n",
       "</style>\n",
       "<table border=\"1\" class=\"dataframe\">\n",
       "  <thead>\n",
       "    <tr style=\"text-align: right;\">\n",
       "      <th></th>\n",
       "      <th>chapter_no</th>\n",
       "      <th>chapter_id</th>\n",
       "      <th>chapter_name</th>\n",
       "      <th>chapter_item_id</th>\n",
       "      <th>chapter_item_no</th>\n",
       "      <th>chapter_item_name</th>\n",
       "      <th>chapter_item_type</th>\n",
       "      <th>video_length_in_seconds</th>\n",
       "    </tr>\n",
       "    <tr>\n",
       "      <th>course_id</th>\n",
       "      <th></th>\n",
       "      <th></th>\n",
       "      <th></th>\n",
       "      <th></th>\n",
       "      <th></th>\n",
       "      <th></th>\n",
       "      <th></th>\n",
       "      <th></th>\n",
       "    </tr>\n",
       "  </thead>\n",
       "  <tbody>\n",
       "    <tr>\n",
       "      <th>54d5a117065a7e0e00725ac0</th>\n",
       "      <td>4</td>\n",
       "      <td>4</td>\n",
       "      <td>4</td>\n",
       "      <td>4</td>\n",
       "      <td>4</td>\n",
       "      <td>4</td>\n",
       "      <td>4</td>\n",
       "      <td>4</td>\n",
       "    </tr>\n",
       "    <tr>\n",
       "      <th>54d5d9952246e60a009ec571</th>\n",
       "      <td>7</td>\n",
       "      <td>7</td>\n",
       "      <td>7</td>\n",
       "      <td>7</td>\n",
       "      <td>7</td>\n",
       "      <td>7</td>\n",
       "      <td>7</td>\n",
       "      <td>7</td>\n",
       "    </tr>\n",
       "    <tr>\n",
       "      <th>54d7148a2246e60a009ec588</th>\n",
       "      <td>8</td>\n",
       "      <td>8</td>\n",
       "      <td>8</td>\n",
       "      <td>8</td>\n",
       "      <td>8</td>\n",
       "      <td>8</td>\n",
       "      <td>8</td>\n",
       "      <td>6</td>\n",
       "    </tr>\n",
       "    <tr>\n",
       "      <th>54f1268f4ec3c809002e4a29</th>\n",
       "      <td>19</td>\n",
       "      <td>19</td>\n",
       "      <td>19</td>\n",
       "      <td>19</td>\n",
       "      <td>19</td>\n",
       "      <td>19</td>\n",
       "      <td>19</td>\n",
       "      <td>18</td>\n",
       "    </tr>\n",
       "    <tr>\n",
       "      <th>551171a938239d1000577864</th>\n",
       "      <td>10</td>\n",
       "      <td>10</td>\n",
       "      <td>10</td>\n",
       "      <td>10</td>\n",
       "      <td>10</td>\n",
       "      <td>10</td>\n",
       "      <td>10</td>\n",
       "      <td>10</td>\n",
       "    </tr>\n",
       "    <tr>\n",
       "      <th>...</th>\n",
       "      <td>...</td>\n",
       "      <td>...</td>\n",
       "      <td>...</td>\n",
       "      <td>...</td>\n",
       "      <td>...</td>\n",
       "      <td>...</td>\n",
       "      <td>...</td>\n",
       "      <td>...</td>\n",
       "    </tr>\n",
       "    <tr>\n",
       "      <th>618c94c13a0b8d00073756e9</th>\n",
       "      <td>23</td>\n",
       "      <td>23</td>\n",
       "      <td>23</td>\n",
       "      <td>23</td>\n",
       "      <td>23</td>\n",
       "      <td>23</td>\n",
       "      <td>23</td>\n",
       "      <td>21</td>\n",
       "    </tr>\n",
       "    <tr>\n",
       "      <th>6191c002a20c140006edcfcd</th>\n",
       "      <td>22</td>\n",
       "      <td>22</td>\n",
       "      <td>22</td>\n",
       "      <td>22</td>\n",
       "      <td>22</td>\n",
       "      <td>22</td>\n",
       "      <td>22</td>\n",
       "      <td>20</td>\n",
       "    </tr>\n",
       "    <tr>\n",
       "      <th>61a5d89b3b954c0007022c77</th>\n",
       "      <td>32</td>\n",
       "      <td>32</td>\n",
       "      <td>32</td>\n",
       "      <td>32</td>\n",
       "      <td>32</td>\n",
       "      <td>32</td>\n",
       "      <td>32</td>\n",
       "      <td>30</td>\n",
       "    </tr>\n",
       "    <tr>\n",
       "      <th>61b6c2bea7dfb10006498876</th>\n",
       "      <td>50</td>\n",
       "      <td>50</td>\n",
       "      <td>50</td>\n",
       "      <td>50</td>\n",
       "      <td>50</td>\n",
       "      <td>50</td>\n",
       "      <td>50</td>\n",
       "      <td>48</td>\n",
       "    </tr>\n",
       "    <tr>\n",
       "      <th>61b941f2e8990300069e4e9e</th>\n",
       "      <td>45</td>\n",
       "      <td>45</td>\n",
       "      <td>45</td>\n",
       "      <td>45</td>\n",
       "      <td>45</td>\n",
       "      <td>45</td>\n",
       "      <td>45</td>\n",
       "      <td>36</td>\n",
       "    </tr>\n",
       "  </tbody>\n",
       "</table>\n",
       "<p>727 rows × 8 columns</p>\n",
       "</div>"
      ],
      "text/plain": [
       "                          chapter_no  chapter_id  chapter_name  \\\n",
       "course_id                                                        \n",
       "54d5a117065a7e0e00725ac0           4           4             4   \n",
       "54d5d9952246e60a009ec571           7           7             7   \n",
       "54d7148a2246e60a009ec588           8           8             8   \n",
       "54f1268f4ec3c809002e4a29          19          19            19   \n",
       "551171a938239d1000577864          10          10            10   \n",
       "...                              ...         ...           ...   \n",
       "618c94c13a0b8d00073756e9          23          23            23   \n",
       "6191c002a20c140006edcfcd          22          22            22   \n",
       "61a5d89b3b954c0007022c77          32          32            32   \n",
       "61b6c2bea7dfb10006498876          50          50            50   \n",
       "61b941f2e8990300069e4e9e          45          45            45   \n",
       "\n",
       "                          chapter_item_id  chapter_item_no  chapter_item_name  \\\n",
       "course_id                                                                       \n",
       "54d5a117065a7e0e00725ac0                4                4                  4   \n",
       "54d5d9952246e60a009ec571                7                7                  7   \n",
       "54d7148a2246e60a009ec588                8                8                  8   \n",
       "54f1268f4ec3c809002e4a29               19               19                 19   \n",
       "551171a938239d1000577864               10               10                 10   \n",
       "...                                   ...              ...                ...   \n",
       "618c94c13a0b8d00073756e9               23               23                 23   \n",
       "6191c002a20c140006edcfcd               22               22                 22   \n",
       "61a5d89b3b954c0007022c77               32               32                 32   \n",
       "61b6c2bea7dfb10006498876               50               50                 50   \n",
       "61b941f2e8990300069e4e9e               45               45                 45   \n",
       "\n",
       "                          chapter_item_type  video_length_in_seconds  \n",
       "course_id                                                             \n",
       "54d5a117065a7e0e00725ac0                  4                        4  \n",
       "54d5d9952246e60a009ec571                  7                        7  \n",
       "54d7148a2246e60a009ec588                  8                        6  \n",
       "54f1268f4ec3c809002e4a29                 19                       18  \n",
       "551171a938239d1000577864                 10                       10  \n",
       "...                                     ...                      ...  \n",
       "618c94c13a0b8d00073756e9                 23                       21  \n",
       "6191c002a20c140006edcfcd                 22                       20  \n",
       "61a5d89b3b954c0007022c77                 32                       30  \n",
       "61b6c2bea7dfb10006498876                 50                       48  \n",
       "61b941f2e8990300069e4e9e                 45                       36  \n",
       "\n",
       "[727 rows x 8 columns]"
      ]
     },
     "execution_count": 112,
     "metadata": {},
     "output_type": "execute_result"
    }
   ],
   "source": [
    "course_chapter_items_df.groupby('course_id').count()"
   ]
  },
  {
   "cell_type": "code",
   "execution_count": null,
   "metadata": {},
   "outputs": [],
   "source": []
  }
 ],
 "metadata": {
  "kernelspec": {
   "display_name": "Python 3.9.15 ('adl': venv)",
   "language": "python",
   "name": "python3"
  },
  "language_info": {
   "codemirror_mode": {
    "name": "ipython",
    "version": 3
   },
   "file_extension": ".py",
   "mimetype": "text/x-python",
   "name": "python",
   "nbconvert_exporter": "python",
   "pygments_lexer": "ipython3",
   "version": "3.9.15"
  },
  "orig_nbformat": 4,
  "vscode": {
   "interpreter": {
    "hash": "1f07a293804b885d03dc90a1aa5b9f14c1f9143b210f0732d9797776510e4628"
   }
  }
 },
 "nbformat": 4,
 "nbformat_minor": 2
}
