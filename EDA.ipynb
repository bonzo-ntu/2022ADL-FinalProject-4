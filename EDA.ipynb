{
 "cells": [
  {
   "cell_type": "code",
   "execution_count": 1,
   "metadata": {},
   "outputs": [],
   "source": [
    "import matplotlib.pyplot as plt\n",
    "import matplotlib as mpl\n",
    "%matplotlib inline\n",
    "import pandas as pd\n",
    "import numpy as np\n",
    "\n",
    "from IPython.display import display, HTML"
   ]
  },
  {
   "cell_type": "markdown",
   "metadata": {},
   "source": [
    "##### search font familys can be used by matplotlib"
   ]
  },
  {
   "cell_type": "code",
   "execution_count": 2,
   "metadata": {},
   "outputs": [
    {
     "name": "stdout",
     "output_type": "stream",
     "text": [
      "AR PL UMing CN\n",
      "AR PL UKai CN\n"
     ]
    }
   ],
   "source": [
    "from matplotlib import font_manager\n",
    "font_set = {f.name for f in font_manager.fontManager.ttflist}\n",
    "for f in font_set:\n",
    "    if 'TW' in f or 'CN' in f:\n",
    "        print(f)\n",
    "    "
   ]
  },
  {
   "cell_type": "code",
   "execution_count": 3,
   "metadata": {},
   "outputs": [],
   "source": [
    "mpl.rcParams['font.sans-serif'] = ['AR PL UKai CN']\n",
    "mpl.rcParams['font.family'] = 'AR PL UKai CN'"
   ]
  },
  {
   "cell_type": "code",
   "execution_count": 4,
   "metadata": {},
   "outputs": [],
   "source": [
    "course_chapter_items_df = pd.read_csv('./data/course_chapter_items.csv')\n",
    "course_df = pd.read_csv('./data/courses.csv')\n",
    "users_df = pd.read_csv('./data/users.csv')\n",
    "subgroups_df = pd.read_csv('./data/subgroups.csv')\n",
    "\n",
    "train_group_df = pd.read_csv('./data/train_group.csv')\n",
    "test_seen_group_df = pd.read_csv('./data/test_seen_group.csv')\n",
    "val_seen_group_df = pd.read_csv('./data/val_seen_group.csv')\n",
    "test_unseen_group_df = pd.read_csv('./data/test_unseen_group.csv')\n",
    "val_unseen_group_df = pd.read_csv('./data/val_unseen_group.csv')\n",
    "\n",
    "train_df = pd.read_csv('./data/train.csv')\n",
    "test_seen_df = pd.read_csv('./data/test_seen.csv')\n",
    "val_seen_df = pd.read_csv('./data/val_seen.csv')\n",
    "test_unseen_df = pd.read_csv('./data/test_unseen.csv')\n",
    "val_unseen_df = pd.read_csv('./data/val_unseen.csv')"
   ]
  },
  {
   "cell_type": "markdown",
   "metadata": {},
   "source": [
    "## 刪除多餘欄位"
   ]
  },
  {
   "cell_type": "code",
   "execution_count": 5,
   "metadata": {},
   "outputs": [
    {
     "data": {
      "text/html": [
       "<div>\n",
       "<style scoped>\n",
       "    .dataframe tbody tr th:only-of-type {\n",
       "        vertical-align: middle;\n",
       "    }\n",
       "\n",
       "    .dataframe tbody tr th {\n",
       "        vertical-align: top;\n",
       "    }\n",
       "\n",
       "    .dataframe thead th {\n",
       "        text-align: right;\n",
       "    }\n",
       "</style>\n",
       "<table border=\"1\" class=\"dataframe\">\n",
       "  <thead>\n",
       "    <tr style=\"text-align: right;\">\n",
       "      <th></th>\n",
       "      <th>course_id</th>\n",
       "      <th>chapter_no</th>\n",
       "      <th>chapter_name</th>\n",
       "      <th>chapter_item_no</th>\n",
       "      <th>chapter_item_name</th>\n",
       "      <th>chapter_item_type</th>\n",
       "      <th>video_length_in_seconds</th>\n",
       "    </tr>\n",
       "  </thead>\n",
       "  <tbody>\n",
       "    <tr>\n",
       "      <th>0</th>\n",
       "      <td>54d5a117065a7e0e00725ac0</td>\n",
       "      <td>1</td>\n",
       "      <td>本課程不分章節</td>\n",
       "      <td>1</td>\n",
       "      <td>拉曲線</td>\n",
       "      <td>LECTURE</td>\n",
       "      <td>578.0</td>\n",
       "    </tr>\n",
       "    <tr>\n",
       "      <th>1</th>\n",
       "      <td>54d5a117065a7e0e00725ac0</td>\n",
       "      <td>1</td>\n",
       "      <td>本課程不分章節</td>\n",
       "      <td>2</td>\n",
       "      <td>分割工具</td>\n",
       "      <td>LECTURE</td>\n",
       "      <td>479.0</td>\n",
       "    </tr>\n",
       "    <tr>\n",
       "      <th>2</th>\n",
       "      <td>54d5a117065a7e0e00725ac0</td>\n",
       "      <td>1</td>\n",
       "      <td>本課程不分章節</td>\n",
       "      <td>3</td>\n",
       "      <td>油漆桶上色工具</td>\n",
       "      <td>LECTURE</td>\n",
       "      <td>726.0</td>\n",
       "    </tr>\n",
       "    <tr>\n",
       "      <th>3</th>\n",
       "      <td>54d5a117065a7e0e00725ac0</td>\n",
       "      <td>1</td>\n",
       "      <td>本課程不分章節</td>\n",
       "      <td>4</td>\n",
       "      <td>幾何圖形分割 X 色塊組合</td>\n",
       "      <td>ASSIGNMENT</td>\n",
       "      <td>56.0</td>\n",
       "    </tr>\n",
       "    <tr>\n",
       "      <th>4</th>\n",
       "      <td>54d5d9952246e60a009ec571</td>\n",
       "      <td>1</td>\n",
       "      <td>本課程不分章節</td>\n",
       "      <td>1</td>\n",
       "      <td>作品範例</td>\n",
       "      <td>LECTURE</td>\n",
       "      <td>165.0</td>\n",
       "    </tr>\n",
       "    <tr>\n",
       "      <th>...</th>\n",
       "      <td>...</td>\n",
       "      <td>...</td>\n",
       "      <td>...</td>\n",
       "      <td>...</td>\n",
       "      <td>...</td>\n",
       "      <td>...</td>\n",
       "      <td>...</td>\n",
       "    </tr>\n",
       "    <tr>\n",
       "      <th>21285</th>\n",
       "      <td>61b941f2e8990300069e4e9e</td>\n",
       "      <td>10</td>\n",
       "      <td>紅酒禮物</td>\n",
       "      <td>2</td>\n",
       "      <td>紅酒禮物：麵團材料、本種攪拌、基本發酵</td>\n",
       "      <td>LECTURE</td>\n",
       "      <td>746.0</td>\n",
       "    </tr>\n",
       "    <tr>\n",
       "      <th>21286</th>\n",
       "      <td>61b941f2e8990300069e4e9e</td>\n",
       "      <td>10</td>\n",
       "      <td>紅酒禮物</td>\n",
       "      <td>3</td>\n",
       "      <td>紅酒禮物：分割、整型、烘烤</td>\n",
       "      <td>LECTURE</td>\n",
       "      <td>560.0</td>\n",
       "    </tr>\n",
       "    <tr>\n",
       "      <th>21287</th>\n",
       "      <td>61b941f2e8990300069e4e9e</td>\n",
       "      <td>10</td>\n",
       "      <td>紅酒禮物</td>\n",
       "      <td>4</td>\n",
       "      <td>【試做紅酒禮物】</td>\n",
       "      <td>ASSIGNMENT</td>\n",
       "      <td>NaN</td>\n",
       "    </tr>\n",
       "    <tr>\n",
       "      <th>21288</th>\n",
       "      <td>61b941f2e8990300069e4e9e</td>\n",
       "      <td>11</td>\n",
       "      <td>Lisa創業心法</td>\n",
       "      <td>1</td>\n",
       "      <td>味覺の感動品牌定位／商品行銷／商品包裝</td>\n",
       "      <td>LECTURE</td>\n",
       "      <td>276.0</td>\n",
       "    </tr>\n",
       "    <tr>\n",
       "      <th>21289</th>\n",
       "      <td>61b941f2e8990300069e4e9e</td>\n",
       "      <td>11</td>\n",
       "      <td>Lisa創業心法</td>\n",
       "      <td>2</td>\n",
       "      <td>Lisa創業經驗分享</td>\n",
       "      <td>LECTURE</td>\n",
       "      <td>206.0</td>\n",
       "    </tr>\n",
       "  </tbody>\n",
       "</table>\n",
       "<p>21290 rows × 7 columns</p>\n",
       "</div>"
      ],
      "text/plain": [
       "                      course_id  chapter_no chapter_name  chapter_item_no  \\\n",
       "0      54d5a117065a7e0e00725ac0           1      本課程不分章節                1   \n",
       "1      54d5a117065a7e0e00725ac0           1      本課程不分章節                2   \n",
       "2      54d5a117065a7e0e00725ac0           1      本課程不分章節                3   \n",
       "3      54d5a117065a7e0e00725ac0           1      本課程不分章節                4   \n",
       "4      54d5d9952246e60a009ec571           1      本課程不分章節                1   \n",
       "...                         ...         ...          ...              ...   \n",
       "21285  61b941f2e8990300069e4e9e          10         紅酒禮物                2   \n",
       "21286  61b941f2e8990300069e4e9e          10         紅酒禮物                3   \n",
       "21287  61b941f2e8990300069e4e9e          10         紅酒禮物                4   \n",
       "21288  61b941f2e8990300069e4e9e          11     Lisa創業心法                1   \n",
       "21289  61b941f2e8990300069e4e9e          11     Lisa創業心法                2   \n",
       "\n",
       "         chapter_item_name chapter_item_type  video_length_in_seconds  \n",
       "0                      拉曲線           LECTURE                    578.0  \n",
       "1                     分割工具           LECTURE                    479.0  \n",
       "2                  油漆桶上色工具           LECTURE                    726.0  \n",
       "3            幾何圖形分割 X 色塊組合        ASSIGNMENT                     56.0  \n",
       "4                     作品範例           LECTURE                    165.0  \n",
       "...                    ...               ...                      ...  \n",
       "21285  紅酒禮物：麵團材料、本種攪拌、基本發酵           LECTURE                    746.0  \n",
       "21286        紅酒禮物：分割、整型、烘烤           LECTURE                    560.0  \n",
       "21287             【試做紅酒禮物】        ASSIGNMENT                      NaN  \n",
       "21288  味覺の感動品牌定位／商品行銷／商品包裝           LECTURE                    276.0  \n",
       "21289           Lisa創業經驗分享           LECTURE                    206.0  \n",
       "\n",
       "[21290 rows x 7 columns]"
      ]
     },
     "execution_count": 5,
     "metadata": {},
     "output_type": "execute_result"
    }
   ],
   "source": [
    "course_chapter_items_df_ = course_chapter_items_df.drop(['chapter_id', 'chapter_item_id'], axis=1)\n",
    "course_chapter_items_df_"
   ]
  },
  {
   "cell_type": "markdown",
   "metadata": {},
   "source": [
    "## 自建工具"
   ]
  },
  {
   "cell_type": "code",
   "execution_count": 19,
   "metadata": {},
   "outputs": [],
   "source": [
    "def check_row_number_with_unique_amount(df, df_name, column):\n",
    "    nrow = df.shape[0]\n",
    "    nunique = pd.unique(df.loc[:,column]).shape[0]\n",
    "    msg = f'dataframe {df_name} row number != unique {column} amount'\n",
    "    assert nrow == nunique, msg\n",
    "    print(f'dataframe {df_name} row number == unique {column} amount ({nrow} == {nunique})')\n",
    "\n",
    "def check_unique_items_are_same_set(df1, df1_name, df1_column, df2, df2_name, df2_column):\n",
    "    df1_set = set(df1.loc[:,df1_column].to_list())\n",
    "    df2_set = set(df2.loc[:,df2_column].to_list())\n",
    "    diff = df1_set.symmetric_difference(df2_set)\n",
    "    msg = f'unique {df1_name}.{df1_column} & unique {df2_name}.{df2_column} are different'\n",
    "    assert len(diff) == 0, msg\n",
    "    print(f'unique {df1_name}.{df1_column} & unique {df2_name}.{df2_column} are the same')\n",
    "\n",
    "def long_series_fold_view(series, nrow=10, index_start_from=0):\n",
    "    series = series.to_list()\n",
    "    sta = 0 \n",
    "    length = len(series)\n",
    "    clips = []\n",
    "    col_names = []\n",
    "    for end in range(0, length, nrow):\n",
    "        if end == 0:\n",
    "            continue\n",
    "        clips.append(series[sta :end])\n",
    "        col_names.append(f\"{sta+index_start_from}_{end+index_start_from-1}\")\n",
    "        sta = end\n",
    "    else:\n",
    "        if end < length:\n",
    "            clips.append(series[end:])\n",
    "            clips[-1] += [None]*(nrow-(length-end) )\n",
    "            col_names.append(f\"{end}_{end+nrow}\")\n",
    "\n",
    "    df = pd.DataFrame({f\"{col_name}\": clip for col_name, clip in zip(col_names, clips)})\n",
    "    df.index = df.index + index_start_from\n",
    "\n",
    "    return df\n",
    "\n",
    "def sub_eda1(df, columns):\n",
    "    for column in columns:\n",
    "        view=df[[column]].describe()\n",
    "        display(view)\n",
    "\n",
    "        N = df[column].describe()['max']\n",
    "        N = int(N)\n",
    "        ax = df.plot.hist(column=[column], bins=100, xticks=range(0,N,100), figsize=(20,5), title=column)\n",
    "        ax.tick_params(axis='x', rotation=45)\n",
    "\n",
    "def sub_eda2(df, columns):\n",
    "    for column in columns:\n",
    "        print(f'column: {columns}')\n",
    "        print(f'.describe():')\n",
    "        view = df[[column]].describe()\n",
    "        display(view)\n",
    "\n",
    "        print(f'.value_counts().describe():')\n",
    "        view = pd.DataFrame({column:df[column].value_counts()}).describe()\n",
    "        display(view)\n",
    "\n",
    "        print(f'.value_counts() fold view:')\n",
    "        view = long_series_fold_view(df[column].value_counts(), nrow=10, index_start_from=1)\n",
    "        display(view)\n",
    "        \n",
    "        print(f'.value_counts().plot()')\n",
    "        df[column].value_counts().plot(figsize=(20,5))\n",
    "        plt.show()\n",
    "\n",
    "def series_bar(series, column):\n",
    "    series.plot.bar(figsize=(20,5), title=f'{column}')\n",
    "    plt.show()\n"
   ]
  },
  {
   "cell_type": "markdown",
   "metadata": {},
   "source": [
    "## NaN 檢查"
   ]
  },
  {
   "cell_type": "code",
   "execution_count": 7,
   "metadata": {},
   "outputs": [
    {
     "data": {
      "text/html": [
       "<div>\n",
       "<style scoped>\n",
       "    .dataframe tbody tr th:only-of-type {\n",
       "        vertical-align: middle;\n",
       "    }\n",
       "\n",
       "    .dataframe tbody tr th {\n",
       "        vertical-align: top;\n",
       "    }\n",
       "\n",
       "    .dataframe thead th {\n",
       "        text-align: right;\n",
       "    }\n",
       "</style>\n",
       "<table border=\"1\" class=\"dataframe\">\n",
       "  <thead>\n",
       "    <tr style=\"text-align: right;\">\n",
       "      <th></th>\n",
       "      <th>df_name</th>\n",
       "      <th>nans</th>\n",
       "    </tr>\n",
       "  </thead>\n",
       "  <tbody>\n",
       "    <tr>\n",
       "      <th>0</th>\n",
       "      <td>course_chapter_items</td>\n",
       "      <td>2029</td>\n",
       "    </tr>\n",
       "    <tr>\n",
       "      <th>1</th>\n",
       "      <td>course</td>\n",
       "      <td>69</td>\n",
       "    </tr>\n",
       "    <tr>\n",
       "      <th>2</th>\n",
       "      <td>users</td>\n",
       "      <td>293146</td>\n",
       "    </tr>\n",
       "    <tr>\n",
       "      <th>3</th>\n",
       "      <td>subgroups</td>\n",
       "      <td>0</td>\n",
       "    </tr>\n",
       "    <tr>\n",
       "      <th>4</th>\n",
       "      <td>train_group</td>\n",
       "      <td>705</td>\n",
       "    </tr>\n",
       "    <tr>\n",
       "      <th>5</th>\n",
       "      <td>test_seen_group</td>\n",
       "      <td>0</td>\n",
       "    </tr>\n",
       "    <tr>\n",
       "      <th>6</th>\n",
       "      <td>val_seen_group</td>\n",
       "      <td>33</td>\n",
       "    </tr>\n",
       "    <tr>\n",
       "      <th>7</th>\n",
       "      <td>test_unseen_group</td>\n",
       "      <td>0</td>\n",
       "    </tr>\n",
       "    <tr>\n",
       "      <th>8</th>\n",
       "      <td>val_unseen_group</td>\n",
       "      <td>96</td>\n",
       "    </tr>\n",
       "    <tr>\n",
       "      <th>9</th>\n",
       "      <td>train</td>\n",
       "      <td>0</td>\n",
       "    </tr>\n",
       "    <tr>\n",
       "      <th>10</th>\n",
       "      <td>test_seen</td>\n",
       "      <td>0</td>\n",
       "    </tr>\n",
       "    <tr>\n",
       "      <th>11</th>\n",
       "      <td>val_seen</td>\n",
       "      <td>0</td>\n",
       "    </tr>\n",
       "    <tr>\n",
       "      <th>12</th>\n",
       "      <td>test_unseen</td>\n",
       "      <td>0</td>\n",
       "    </tr>\n",
       "    <tr>\n",
       "      <th>13</th>\n",
       "      <td>val_unseen</td>\n",
       "      <td>0</td>\n",
       "    </tr>\n",
       "  </tbody>\n",
       "</table>\n",
       "</div>"
      ],
      "text/plain": [
       "                 df_name    nans\n",
       "0   course_chapter_items    2029\n",
       "1                 course      69\n",
       "2                  users  293146\n",
       "3              subgroups       0\n",
       "4            train_group     705\n",
       "5        test_seen_group       0\n",
       "6         val_seen_group      33\n",
       "7      test_unseen_group       0\n",
       "8       val_unseen_group      96\n",
       "9                  train       0\n",
       "10             test_seen       0\n",
       "11              val_seen       0\n",
       "12           test_unseen       0\n",
       "13            val_unseen       0"
      ]
     },
     "execution_count": 7,
     "metadata": {},
     "output_type": "execute_result"
    }
   ],
   "source": [
    "course_chapter_items_df_nans = course_chapter_items_df.isnull().sum().sum()\n",
    "course_df_nans = course_df.isnull().sum().sum()\n",
    "users_df_nans = users_df.isnull().sum().sum()\n",
    "subgroups_df_nans = subgroups_df.isnull().sum().sum()\n",
    "\n",
    "train_group_df_nans = train_group_df.isnull().sum().sum()\n",
    "test_seen_group_df_nans = test_seen_group_df.isnull().sum().sum()\n",
    "val_seen_group_df_nans = val_seen_group_df.isnull().sum().sum()\n",
    "test_unseen_group_df_nans = test_unseen_group_df.isnull().sum().sum()\n",
    "val_unseen_group_df_nans = val_unseen_group_df.isnull().sum().sum()\n",
    "\n",
    "train_df_nans = train_df.isnull().sum().sum()\n",
    "test_seen_df_nans = test_seen_df.isnull().sum().sum()\n",
    "val_seen_df_nans = val_seen_df.isnull().sum().sum()\n",
    "test_unseen_df_nans = test_unseen_df.isnull().sum().sum()\n",
    "val_unseen_df_nans = val_unseen_df.isnull().sum().sum()\n",
    "\n",
    "pd.DataFrame({'df_name':[    \n",
    "    \"course_chapter_items\", \n",
    "    \"course\", \n",
    "    \"users\", \n",
    "    \"subgroups\", \n",
    "    \"train_group\",\n",
    "    \"test_seen_group\", \n",
    "    \"val_seen_group\", \n",
    "    \"test_unseen_group\", \n",
    "    \"val_unseen_group\", \n",
    "    \"train\", \n",
    "    \"test_seen\", \n",
    "    \"val_seen\", \n",
    "    \"test_unseen\", \n",
    "    \"val_unseen\"], 'nans':[\n",
    "    course_chapter_items_df_nans, \n",
    "    course_df_nans, \n",
    "    users_df_nans, \n",
    "    subgroups_df_nans, \n",
    "    train_group_df_nans,\n",
    "    test_seen_group_df_nans, \n",
    "    val_seen_group_df_nans, \n",
    "    test_unseen_group_df_nans, \n",
    "    val_unseen_group_df_nans, \n",
    "    train_df_nans, \n",
    "    test_seen_df_nans, \n",
    "    val_seen_df_nans, \n",
    "    test_unseen_df_nans, \n",
    "    val_unseen_df_nans]})"
   ]
  },
  {
   "cell_type": "code",
   "execution_count": 8,
   "metadata": {},
   "outputs": [
    {
     "data": {
      "text/plain": [
       "course_id                     0\n",
       "chapter_no                    0\n",
       "chapter_id                    0\n",
       "chapter_name                103\n",
       "chapter_item_id               0\n",
       "chapter_item_no               0\n",
       "chapter_item_name             7\n",
       "chapter_item_type             0\n",
       "video_length_in_seconds    1919\n",
       "dtype: int64"
      ]
     },
     "execution_count": 8,
     "metadata": {},
     "output_type": "execute_result"
    }
   ],
   "source": [
    "course_chapter_items_df.isnull().sum()"
   ]
  },
  {
   "cell_type": "code",
   "execution_count": 9,
   "metadata": {},
   "outputs": [
    {
     "data": {
      "text/plain": [
       "user_id                   0\n",
       "gender                45195\n",
       "occupation_titles    101510\n",
       "interests             47810\n",
       "recreation_names      98631\n",
       "dtype: int64"
      ]
     },
     "execution_count": 9,
     "metadata": {},
     "output_type": "execute_result"
    }
   ],
   "source": [
    "users_df.isnull().sum()"
   ]
  },
  {
   "cell_type": "code",
   "execution_count": 10,
   "metadata": {},
   "outputs": [
    {
     "data": {
      "text/plain": [
       "user_id       0\n",
       "subgroup    705\n",
       "dtype: int64"
      ]
     },
     "execution_count": 10,
     "metadata": {},
     "output_type": "execute_result"
    }
   ],
   "source": [
    "\n",
    "train_group_df.isnull().sum()"
   ]
  },
  {
   "cell_type": "code",
   "execution_count": 11,
   "metadata": {},
   "outputs": [
    {
     "data": {
      "text/plain": [
       "user_id      0\n",
       "subgroup    33\n",
       "dtype: int64"
      ]
     },
     "execution_count": 11,
     "metadata": {},
     "output_type": "execute_result"
    }
   ],
   "source": [
    "val_seen_group_df.isnull().sum()"
   ]
  },
  {
   "cell_type": "code",
   "execution_count": 12,
   "metadata": {},
   "outputs": [
    {
     "data": {
      "text/plain": [
       "user_id      0\n",
       "subgroup    96\n",
       "dtype: int64"
      ]
     },
     "execution_count": 12,
     "metadata": {},
     "output_type": "execute_result"
    }
   ],
   "source": [
    "val_unseen_group_df.isnull().sum()"
   ]
  },
  {
   "cell_type": "markdown",
   "metadata": {},
   "source": [
    "## 基本資料檢查"
   ]
  },
  {
   "cell_type": "code",
   "execution_count": 13,
   "metadata": {},
   "outputs": [
    {
     "ename": "AssertionError",
     "evalue": "amount of unique coursd_id unmatch in course_df, course_chapter_items_df (728 != 727)",
     "output_type": "error",
     "traceback": [
      "\u001b[0;31m---------------------------------------------------------------------------\u001b[0m",
      "\u001b[0;31mAssertionError\u001b[0m                            Traceback (most recent call last)",
      "Cell \u001b[0;32mIn[13], line 4\u001b[0m\n\u001b[1;32m      2\u001b[0m course_chapter_items_df_cid \u001b[39m=\u001b[39m pd\u001b[39m.\u001b[39munique(course_chapter_items_df\u001b[39m.\u001b[39mcourse_id)\u001b[39m.\u001b[39mshape[\u001b[39m0\u001b[39m]\n\u001b[1;32m      3\u001b[0m msg \u001b[39m=\u001b[39m \u001b[39mf\u001b[39m\u001b[39m'\u001b[39m\u001b[39mamount of unique coursd_id unmatch in course_df, course_chapter_items_df (\u001b[39m\u001b[39m{\u001b[39;00mcourse_df_cid\u001b[39m}\u001b[39;00m\u001b[39m != \u001b[39m\u001b[39m{\u001b[39;00mcourse_chapter_items_df_cid\u001b[39m}\u001b[39;00m\u001b[39m)\u001b[39m\u001b[39m'\u001b[39m\n\u001b[0;32m----> 4\u001b[0m \u001b[39massert\u001b[39;00m course_df_cid \u001b[39m==\u001b[39m course_chapter_items_df_cid, msg\n",
      "\u001b[0;31mAssertionError\u001b[0m: amount of unique coursd_id unmatch in course_df, course_chapter_items_df (728 != 727)"
     ]
    }
   ],
   "source": [
    "course_df_cid = pd.unique(course_df.course_id).shape[0]\n",
    "course_chapter_items_df_cid = pd.unique(course_chapter_items_df.course_id).shape[0]\n",
    "msg = f'amount of unique coursd_id unmatch in course_df, course_chapter_items_df ({course_df_cid} != {course_chapter_items_df_cid})'\n",
    "assert course_df_cid == course_chapter_items_df_cid, msg"
   ]
  },
  {
   "cell_type": "code",
   "execution_count": 14,
   "metadata": {},
   "outputs": [
    {
     "name": "stdout",
     "output_type": "stream",
     "text": [
      "unique subgroup id:91\n",
      "unique user id: 130566\n",
      "train_df, train_group_df have the same unique user_id set\n",
      "unique train_df.user_id & unique train_group_df.user_id are the same\n",
      "dataframe train_df row number == unique user_id amount (59737 == 59737)\n",
      "dataframe train_group_df row number == unique user_id amount (59737 == 59737)\n"
     ]
    }
   ],
   "source": [
    "subgroups_df_sid = pd.unique(subgroups_df.subgroup_id).shape[0]\n",
    "users_df_uid = pd.unique(users_df.user_id).shape[0]\n",
    "print(f'unique subgroup id:{subgroups_df_sid}')\n",
    "print(f'unique user id: {users_df_uid}')\n",
    "\n",
    "\n",
    "train_df_uid_set = set(train_df.user_id.to_list())\n",
    "train_group_df_uid_set = set(train_group_df.user_id.to_list())\n",
    "identical_set = train_df_uid_set.symmetric_difference(train_group_df_uid_set)\n",
    "msg = f'unique user_id not the same set in train_df, train_group_df'\n",
    "assert len(identical_set) == 0, msg\n",
    "print(f'train_df, train_group_df have the same unique user_id set')\n",
    "\n",
    "check_unique_items_are_same_set(train_df, 'train_df', 'user_id', train_group_df, 'train_group_df', 'user_id')\n",
    "check_row_number_with_unique_amount(train_df, 'train_df', 'user_id')\n",
    "check_row_number_with_unique_amount(train_group_df, 'train_group_df', 'user_id')"
   ]
  }
 ],
 "metadata": {
  "kernelspec": {
   "display_name": "Python 3.9.15 ('adl': venv)",
   "language": "python",
   "name": "python3"
  },
  "language_info": {
   "codemirror_mode": {
    "name": "ipython",
    "version": 3
   },
   "file_extension": ".py",
   "mimetype": "text/x-python",
   "name": "python",
   "nbconvert_exporter": "python",
   "pygments_lexer": "ipython3",
   "version": "3.9.15"
  },
  "orig_nbformat": 4,
  "vscode": {
   "interpreter": {
    "hash": "1f07a293804b885d03dc90a1aa5b9f14c1f9143b210f0732d9797776510e4628"
   }
  }
 },
 "nbformat": 4,
 "nbformat_minor": 2
}
