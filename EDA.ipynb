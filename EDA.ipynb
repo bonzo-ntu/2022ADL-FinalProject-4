{
 "cells": [
  {
   "cell_type": "code",
   "execution_count": 1,
   "metadata": {},
   "outputs": [],
   "source": [
    "%matplotlib notebook\n",
    "import matplotlib.pyplot as plt\n",
    "import pandas as pd\n",
    "import numpy as np"
   ]
  },
  {
   "cell_type": "markdown",
   "metadata": {},
   "source": [
    "## 自建工具"
   ]
  },
  {
   "cell_type": "code",
   "execution_count": 74,
   "metadata": {},
   "outputs": [],
   "source": [
    "def check_row_number_with_unique_amount(df, df_name, column):\n",
    "    nrow = df.shape[0]\n",
    "    nunique = pd.unique(df.loc[:,column]).shape[0]\n",
    "    msg = f'dataframe {df_name} row number != unique {column} amount'\n",
    "    assert nrow == nunique, msg\n",
    "    print(f'dataframe {df_name} row number == unique {column} amount ({nrow} == {nunique})')\n",
    "\n",
    "def check_unique_items_are_same_set(df1, df1_name, df1_column, df2, df2_name, df2_column):\n",
    "    df1_set = set(df1.loc[:,df1_column].to_list())\n",
    "    df2_set = set(df2.loc[:,df2_column].to_list())\n",
    "    diff = df1_set.symmetric_difference(df2_set)\n",
    "    msg = f'unique {df1_name}.{df1_column} & unique {df2_name}.{df2_column} are different'\n",
    "    assert len(identical_set) == 0, msg\n",
    "    print(f'unique {df1_name}.{df1_column} & unique {df2_name}.{df2_column} are the same')"
   ]
  },
  {
   "cell_type": "markdown",
   "metadata": {},
   "source": [
    "## NaN 檢查"
   ]
  },
  {
   "cell_type": "code",
   "execution_count": 46,
   "metadata": {},
   "outputs": [
    {
     "data": {
      "text/html": [
       "<div>\n",
       "<style scoped>\n",
       "    .dataframe tbody tr th:only-of-type {\n",
       "        vertical-align: middle;\n",
       "    }\n",
       "\n",
       "    .dataframe tbody tr th {\n",
       "        vertical-align: top;\n",
       "    }\n",
       "\n",
       "    .dataframe thead th {\n",
       "        text-align: right;\n",
       "    }\n",
       "</style>\n",
       "<table border=\"1\" class=\"dataframe\">\n",
       "  <thead>\n",
       "    <tr style=\"text-align: right;\">\n",
       "      <th></th>\n",
       "      <th>df_name</th>\n",
       "      <th>nans</th>\n",
       "    </tr>\n",
       "  </thead>\n",
       "  <tbody>\n",
       "    <tr>\n",
       "      <th>0</th>\n",
       "      <td>course_chapter_items</td>\n",
       "      <td>2029</td>\n",
       "    </tr>\n",
       "    <tr>\n",
       "      <th>1</th>\n",
       "      <td>course</td>\n",
       "      <td>69</td>\n",
       "    </tr>\n",
       "    <tr>\n",
       "      <th>2</th>\n",
       "      <td>users</td>\n",
       "      <td>293146</td>\n",
       "    </tr>\n",
       "    <tr>\n",
       "      <th>3</th>\n",
       "      <td>subgroups</td>\n",
       "      <td>0</td>\n",
       "    </tr>\n",
       "    <tr>\n",
       "      <th>4</th>\n",
       "      <td>train_group</td>\n",
       "      <td>705</td>\n",
       "    </tr>\n",
       "    <tr>\n",
       "      <th>5</th>\n",
       "      <td>test_seen_group</td>\n",
       "      <td>0</td>\n",
       "    </tr>\n",
       "    <tr>\n",
       "      <th>6</th>\n",
       "      <td>val_seen_group</td>\n",
       "      <td>33</td>\n",
       "    </tr>\n",
       "    <tr>\n",
       "      <th>7</th>\n",
       "      <td>test_unseen_group</td>\n",
       "      <td>0</td>\n",
       "    </tr>\n",
       "    <tr>\n",
       "      <th>8</th>\n",
       "      <td>val_unseen_group</td>\n",
       "      <td>96</td>\n",
       "    </tr>\n",
       "    <tr>\n",
       "      <th>9</th>\n",
       "      <td>train</td>\n",
       "      <td>0</td>\n",
       "    </tr>\n",
       "    <tr>\n",
       "      <th>10</th>\n",
       "      <td>test_seen</td>\n",
       "      <td>0</td>\n",
       "    </tr>\n",
       "    <tr>\n",
       "      <th>11</th>\n",
       "      <td>val_seen</td>\n",
       "      <td>0</td>\n",
       "    </tr>\n",
       "    <tr>\n",
       "      <th>12</th>\n",
       "      <td>test_unseen</td>\n",
       "      <td>0</td>\n",
       "    </tr>\n",
       "    <tr>\n",
       "      <th>13</th>\n",
       "      <td>val_unseen</td>\n",
       "      <td>0</td>\n",
       "    </tr>\n",
       "  </tbody>\n",
       "</table>\n",
       "</div>"
      ],
      "text/plain": [
       "                 df_name    nans\n",
       "0   course_chapter_items    2029\n",
       "1                 course      69\n",
       "2                  users  293146\n",
       "3              subgroups       0\n",
       "4            train_group     705\n",
       "5        test_seen_group       0\n",
       "6         val_seen_group      33\n",
       "7      test_unseen_group       0\n",
       "8       val_unseen_group      96\n",
       "9                  train       0\n",
       "10             test_seen       0\n",
       "11              val_seen       0\n",
       "12           test_unseen       0\n",
       "13            val_unseen       0"
      ]
     },
     "execution_count": 46,
     "metadata": {},
     "output_type": "execute_result"
    }
   ],
   "source": [
    "course_chapter_items_df_nans = course_chapter_items_df.isnull().sum().sum()\n",
    "course_df_nans = course_df.isnull().sum().sum()\n",
    "users_df_nans = users_df.isnull().sum().sum()\n",
    "subgroups_df_nans = subgroups_df.isnull().sum().sum()\n",
    "\n",
    "train_group_df_nans = train_group_df.isnull().sum().sum()\n",
    "test_seen_group_df_nans = test_seen_group_df.isnull().sum().sum()\n",
    "val_seen_group_df_nans = val_seen_group_df.isnull().sum().sum()\n",
    "test_unseen_group_df_nans = test_unseen_group_df.isnull().sum().sum()\n",
    "val_unseen_group_df_nans = val_unseen_group_df.isnull().sum().sum()\n",
    "\n",
    "train_df_nans = train_df.isnull().sum().sum()\n",
    "test_seen_df_nans = test_seen_df.isnull().sum().sum()\n",
    "val_seen_df_nans = val_seen_df.isnull().sum().sum()\n",
    "test_unseen_df_nans = test_unseen_df.isnull().sum().sum()\n",
    "val_unseen_df_nans = val_unseen_df.isnull().sum().sum()\n",
    "\n",
    "pd.DataFrame({'df_name':[    \n",
    "    \"course_chapter_items\", \n",
    "    \"course\", \n",
    "    \"users\", \n",
    "    \"subgroups\", \n",
    "    \"train_group\",\n",
    "    \"test_seen_group\", \n",
    "    \"val_seen_group\", \n",
    "    \"test_unseen_group\", \n",
    "    \"val_unseen_group\", \n",
    "    \"train\", \n",
    "    \"test_seen\", \n",
    "    \"val_seen\", \n",
    "    \"test_unseen\", \n",
    "    \"val_unseen\"], 'nans':[\n",
    "    course_chapter_items_df_nans, \n",
    "    course_df_nans, \n",
    "    users_df_nans, \n",
    "    subgroups_df_nans, \n",
    "    train_group_df_nans,\n",
    "    test_seen_group_df_nans, \n",
    "    val_seen_group_df_nans, \n",
    "    test_unseen_group_df_nans, \n",
    "    val_unseen_group_df_nans, \n",
    "    train_df_nans, \n",
    "    test_seen_df_nans, \n",
    "    val_seen_df_nans, \n",
    "    test_unseen_df_nans, \n",
    "    val_unseen_df_nans]})"
   ]
  },
  {
   "cell_type": "code",
   "execution_count": 33,
   "metadata": {},
   "outputs": [
    {
     "data": {
      "text/plain": [
       "course_id                     0\n",
       "chapter_no                    0\n",
       "chapter_id                    0\n",
       "chapter_name                103\n",
       "chapter_item_id               0\n",
       "chapter_item_no               0\n",
       "chapter_item_name             7\n",
       "chapter_item_type             0\n",
       "video_length_in_seconds    1919\n",
       "dtype: int64"
      ]
     },
     "execution_count": 33,
     "metadata": {},
     "output_type": "execute_result"
    }
   ],
   "source": [
    "course_chapter_items_df.isnull().sum()"
   ]
  },
  {
   "cell_type": "code",
   "execution_count": 34,
   "metadata": {},
   "outputs": [
    {
     "data": {
      "text/plain": [
       "user_id                   0\n",
       "gender                45195\n",
       "occupation_titles    101510\n",
       "interests             47810\n",
       "recreation_names      98631\n",
       "dtype: int64"
      ]
     },
     "execution_count": 34,
     "metadata": {},
     "output_type": "execute_result"
    }
   ],
   "source": [
    "users_df.isnull().sum()"
   ]
  },
  {
   "cell_type": "code",
   "execution_count": 36,
   "metadata": {},
   "outputs": [
    {
     "data": {
      "text/plain": [
       "user_id       0\n",
       "subgroup    705\n",
       "dtype: int64"
      ]
     },
     "execution_count": 36,
     "metadata": {},
     "output_type": "execute_result"
    }
   ],
   "source": [
    "\n",
    "train_group_df.isnull().sum()"
   ]
  },
  {
   "cell_type": "code",
   "execution_count": 38,
   "metadata": {},
   "outputs": [
    {
     "data": {
      "text/plain": [
       "user_id      0\n",
       "subgroup    33\n",
       "dtype: int64"
      ]
     },
     "execution_count": 38,
     "metadata": {},
     "output_type": "execute_result"
    }
   ],
   "source": [
    "val_seen_group_df.isnull().sum()"
   ]
  },
  {
   "cell_type": "code",
   "execution_count": 40,
   "metadata": {},
   "outputs": [
    {
     "data": {
      "text/plain": [
       "user_id      0\n",
       "subgroup    96\n",
       "dtype: int64"
      ]
     },
     "execution_count": 40,
     "metadata": {},
     "output_type": "execute_result"
    }
   ],
   "source": [
    "val_unseen_group_df.isnull().sum()"
   ]
  },
  {
   "cell_type": "markdown",
   "metadata": {},
   "source": [
    "## 基本資料檢查"
   ]
  },
  {
   "cell_type": "code",
   "execution_count": 2,
   "metadata": {},
   "outputs": [],
   "source": [
    "course_chapter_items_df = pd.read_csv('./data/course_chapter_items.csv')\n",
    "course_df = pd.read_csv('./data/courses.csv')\n",
    "users_df = pd.read_csv('./data/users.csv')\n",
    "subgroups_df = pd.read_csv('./data/subgroups.csv')\n",
    "\n",
    "train_group_df = pd.read_csv('./data/train_group.csv')\n",
    "test_seen_group_df = pd.read_csv('./data/test_seen_group.csv')\n",
    "val_seen_group_df = pd.read_csv('./data/val_seen_group.csv')\n",
    "test_unseen_group_df = pd.read_csv('./data/test_unseen_group.csv')\n",
    "val_unseen_group_df = pd.read_csv('./data/val_unseen_group.csv')\n",
    "\n",
    "train_df = pd.read_csv('./data/train.csv')\n",
    "test_seen_df = pd.read_csv('./data/test_seen.csv')\n",
    "val_seen_df = pd.read_csv('./data/val_seen.csv')\n",
    "test_unseen_df = pd.read_csv('./data/test_unseen.csv')\n",
    "val_unseen_df = pd.read_csv('./data/val_unseen.csv')"
   ]
  },
  {
   "cell_type": "code",
   "execution_count": 3,
   "metadata": {},
   "outputs": [
    {
     "ename": "AssertionError",
     "evalue": "amount of unique coursd_id unmatch in course_df, course_chapter_items_df (728 != 727)",
     "output_type": "error",
     "traceback": [
      "\u001b[0;31m---------------------------------------------------------------------------\u001b[0m",
      "\u001b[0;31mAssertionError\u001b[0m                            Traceback (most recent call last)",
      "Cell \u001b[0;32mIn[3], line 4\u001b[0m\n\u001b[1;32m      2\u001b[0m course_chapter_items_df_cid \u001b[39m=\u001b[39m pd\u001b[39m.\u001b[39munique(course_chapter_items_df\u001b[39m.\u001b[39mcourse_id)\u001b[39m.\u001b[39mshape[\u001b[39m0\u001b[39m]\n\u001b[1;32m      3\u001b[0m msg \u001b[39m=\u001b[39m \u001b[39mf\u001b[39m\u001b[39m'\u001b[39m\u001b[39mamount of unique coursd_id unmatch in course_df, course_chapter_items_df (\u001b[39m\u001b[39m{\u001b[39;00mcourse_df_cid\u001b[39m}\u001b[39;00m\u001b[39m != \u001b[39m\u001b[39m{\u001b[39;00mcourse_chapter_items_df_cid\u001b[39m}\u001b[39;00m\u001b[39m)\u001b[39m\u001b[39m'\u001b[39m\n\u001b[0;32m----> 4\u001b[0m \u001b[39massert\u001b[39;00m course_df_cid \u001b[39m==\u001b[39m course_chapter_items_df_cid, msg\n",
      "\u001b[0;31mAssertionError\u001b[0m: amount of unique coursd_id unmatch in course_df, course_chapter_items_df (728 != 727)"
     ]
    }
   ],
   "source": [
    "course_df_cid = pd.unique(course_df.course_id).shape[0]\n",
    "course_chapter_items_df_cid = pd.unique(course_chapter_items_df.course_id).shape[0]\n",
    "msg = f'amount of unique coursd_id unmatch in course_df, course_chapter_items_df ({course_df_cid} != {course_chapter_items_df_cid})'\n",
    "assert course_df_cid == course_chapter_items_df_cid, msg"
   ]
  },
  {
   "cell_type": "code",
   "execution_count": 77,
   "metadata": {},
   "outputs": [
    {
     "name": "stdout",
     "output_type": "stream",
     "text": [
      "unique subgroup id:91\n",
      "unique user id: 130566\n",
      "train_df, train_group_df have the same unique user_id set\n",
      "unique train_df.user_id & unique train_group_df.user_id are the same\n",
      "dataframe train_df row number == unique user_id amount (59737 == 59737)\n",
      "dataframe train_group_df row number == unique user_id amount (59737 == 59737)\n"
     ]
    }
   ],
   "source": [
    "subgroups_df_sid = pd.unique(subgroups_df.subgroup_id).shape[0]\n",
    "users_df_uid = pd.unique(users_df.user_id).shape[0]\n",
    "print(f'unique subgroup id:{subgroups_df_sid}')\n",
    "print(f'unique user id: {users_df_uid}')\n",
    "\n",
    "\n",
    "train_df_uid_set = set(train_df.user_id.to_list())\n",
    "train_group_df_uid_set = set(train_group_df.user_id.to_list())\n",
    "identical_set = train_df_uid_set.symmetric_difference(train_group_df_uid_set)\n",
    "msg = f'unique user_id not the same set in train_df, train_group_df'\n",
    "assert len(identical_set) == 0, msg\n",
    "print(f'train_df, train_group_df have the same unique user_id set')\n",
    "\n",
    "check_unique_items_are_same_set(train_df, 'train_df', 'user_id', train_group_df, 'train_group_df', 'user_id')\n",
    "check_row_number_with_unique_amount(train_df, 'train_df', 'user_id')\n",
    "check_row_number_with_unique_amount(train_group_df, 'train_group_df', 'user_id')"
   ]
  },
  {
   "cell_type": "markdown",
   "metadata": {},
   "source": [
    "## 檢驗相同的users在train中購買的subgroups有多少比例 valid的時候也有購買(course的為0，不會重複購買)"
   ]
  },
  {
   "cell_type": "code",
   "execution_count": 3,
   "metadata": {},
   "outputs": [
    {
     "name": "stdout",
     "output_type": "stream",
     "text": [
      "mean continue_to_buy_ratio: 0.17182368307771648\n"
     ]
    }
   ],
   "source": [
    "train_group_df = pd.read_csv('./data/train_group.csv')\n",
    "val_seen_group_df = pd.read_csv('./data/val_seen_group.csv')\n",
    "\n",
    "continue_to_buy_ratio = []\n",
    "for i, val_user_id in enumerate(val_seen_group_df[\"user_id\"]):\n",
    "    val_user_subgroups = str(val_seen_group_df[\"subgroup\"][i]).split()\n",
    "    index_in_train_df = train_group_df[train_group_df[\"user_id\"] == val_user_id].index.tolist()[0]\n",
    "    train_user_subgroups = str(train_group_df.at[index_in_train_df, 'subgroup']).split()\n",
    "    #print(val_user_subgroups)\n",
    "    #print(train_user_subgroups)\n",
    "    continue_to_buy = 0\n",
    "    for train_user_subgroup in train_user_subgroups:\n",
    "        if train_user_subgroup in val_user_subgroups:\n",
    "            continue_to_buy += 1\n",
    "    continue_to_buy_ratio.append(continue_to_buy/len(train_user_subgroups))\n",
    "print(f\"mean continue_to_buy_ratio: {sum(continue_to_buy_ratio)/len(continue_to_buy_ratio)}\")"
   ]
  }
 ],
 "metadata": {
  "kernelspec": {
   "display_name": "Python ('pytorch-gpu')",
   "language": "python",
   "name": "python3"
  },
  "language_info": {
   "codemirror_mode": {
    "name": "ipython",
    "version": 3
   },
   "file_extension": ".py",
   "mimetype": "text/x-python",
   "name": "python",
   "nbconvert_exporter": "python",
   "pygments_lexer": "ipython3",
   "version": "3.7.13"
  },
  "orig_nbformat": 4,
  "vscode": {
   "interpreter": {
    "hash": "efdf5658a7f61cf2d42b37be405ac7a06c13e47762f0328a5d916fcf2244b513"
   }
  }
 },
 "nbformat": 4,
 "nbformat_minor": 2
}
