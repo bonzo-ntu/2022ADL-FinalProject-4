{
 "cells": [
  {
   "cell_type": "code",
   "execution_count": 1,
   "metadata": {},
   "outputs": [
    {
     "name": "stderr",
     "output_type": "stream",
     "text": [
      "Duplicate key in file WindowsPath('c:/Users/USER/anaconda3/envs/python3.9.15/lib/site-packages/matplotlib/mpl-data/matplotlibrc'), line 273 ('font.monospace:  DejaVu Sans Mono, Bitstream Vera Sans Mono, Computer Modern Typewriter, Andale Mono, Nimbus Mono L, Courier New, Courier, Fixed, Terminal, monospace')\n"
     ]
    }
   ],
   "source": [
    "import matplotlib.pyplot as plt\n",
    "%matplotlib inline\n",
    "import pandas as pd\n",
    "import numpy as np\n",
    "from collections import Counter\n",
    "import seaborn as sns\n",
    "\n"
   ]
  },
  {
   "cell_type": "code",
   "execution_count": 2,
   "metadata": {},
   "outputs": [],
   "source": [
    "course_chapter_items_df = pd.read_csv('./data/course_chapter_items.csv')\n",
    "course_df = pd.read_csv('./data/courses.csv')\n",
    "users_df = pd.read_csv('./data/users.csv')\n",
    "subgroups_df = pd.read_csv('./data/subgroups.csv')\n",
    "\n",
    "train_group_df = pd.read_csv('./data/train_group.csv')\n",
    "test_seen_group_df = pd.read_csv('./data/test_seen_group.csv')\n",
    "val_seen_group_df = pd.read_csv('./data/val_seen_group.csv')\n",
    "test_unseen_group_df = pd.read_csv('./data/test_unseen_group.csv')\n",
    "val_unseen_group_df = pd.read_csv('./data/val_unseen_group.csv')\n",
    "\n",
    "train_df = pd.read_csv('./data/train.csv')\n",
    "test_seen_df = pd.read_csv('./data/test_seen.csv')\n",
    "val_seen_df = pd.read_csv('./data/val_seen.csv')\n",
    "test_unseen_df = pd.read_csv('./data/test_unseen.csv')\n",
    "val_unseen_df = pd.read_csv('./data/val_unseen.csv')"
   ]
  },
  {
   "cell_type": "code",
   "execution_count": 54,
   "metadata": {},
   "outputs": [
    {
     "data": {
      "text/html": [
       "<div>\n",
       "<style scoped>\n",
       "    .dataframe tbody tr th:only-of-type {\n",
       "        vertical-align: middle;\n",
       "    }\n",
       "\n",
       "    .dataframe tbody tr th {\n",
       "        vertical-align: top;\n",
       "    }\n",
       "\n",
       "    .dataframe thead th {\n",
       "        text-align: right;\n",
       "    }\n",
       "</style>\n",
       "<table border=\"1\" class=\"dataframe\">\n",
       "  <thead>\n",
       "    <tr style=\"text-align: right;\">\n",
       "      <th></th>\n",
       "      <th>course_id</th>\n",
       "      <th>course_name</th>\n",
       "      <th>course_price</th>\n",
       "      <th>teacher_id</th>\n",
       "      <th>teacher_intro</th>\n",
       "      <th>groups</th>\n",
       "      <th>sub_groups</th>\n",
       "      <th>topics</th>\n",
       "      <th>course_published_at_local</th>\n",
       "      <th>description</th>\n",
       "      <th>will_learn</th>\n",
       "      <th>required_tools</th>\n",
       "      <th>recommended_background</th>\n",
       "      <th>target_group</th>\n",
       "    </tr>\n",
       "  </thead>\n",
       "  <tbody>\n",
       "    <tr>\n",
       "      <th>0</th>\n",
       "      <td>61888e868f154b000781b45a</td>\n",
       "      <td>少女人妻華麗變身：七大妝容七彩的夢幻樂園</td>\n",
       "      <td>1800</td>\n",
       "      <td>61888e7bb7fe1c0006850eff</td>\n",
       "      <td>在美妝 KOL 圈裡屬個人風格強烈的 Alice，在清新與叛逆風格間遊刃有餘，其幽默的美妝影...</td>\n",
       "      <td>生活品味</td>\n",
       "      <td>更多生活品味,護膚保養與化妝</td>\n",
       "      <td>更多生活品味,護膚保養與化妝</td>\n",
       "      <td>NaN</td>\n",
       "      <td>&lt;img src=\"https://images.api.hahow.in/images/6...</td>\n",
       "      <td>不再害怕各種顏色的彩妝，可以更隨心搭配各種繽紛的顏色。\\n</td>\n",
       "      <td>所需工具為：視課程實際會用到的彩妝用品</td>\n",
       "      <td>只要你有一顆愛化妝、想變漂亮的心皆可以參加。\\n\\n⚠️ 雖然課程當中會帶到相關彩妝技巧，不...</td>\n",
       "      <td>熱愛彩妝的人</td>\n",
       "    </tr>\n",
       "    <tr>\n",
       "      <th>1</th>\n",
       "      <td>54d5a117065a7e0e00725ac0</td>\n",
       "      <td>幾何圖形分割 X 色塊組合</td>\n",
       "      <td>100</td>\n",
       "      <td>54d5a079065a7e0e00725abe</td>\n",
       "      <td>從學生時代開始摸索photoshop等軟體，自以為有些天賦但後來發現其實沒有。出社會後從事美...</td>\n",
       "      <td>藝術,設計</td>\n",
       "      <td>平面設計,繪畫與插畫</td>\n",
       "      <td>Illustrator/以拉,配色技巧</td>\n",
       "      <td>2015-03-27 23:38:27.195</td>\n",
       "      <td>&lt;img src=\"https://storage.googleapis.com/hahow...</td>\n",
       "      <td>可以將任何區塊分割成自己想要的幾何圖形、快速的上色，並且能夠應用在許多地方</td>\n",
       "      <td>Adobe Illustrator（必備）, camera</td>\n",
       "      <td>知道如何使用Illustrator的基本工具列</td>\n",
       "      <td>每一位興趣的人都能學得來，非常容易的小技巧</td>\n",
       "    </tr>\n",
       "  </tbody>\n",
       "</table>\n",
       "</div>"
      ],
      "text/plain": [
       "                  course_id           course_name  course_price  \\\n",
       "0  61888e868f154b000781b45a  少女人妻華麗變身：七大妝容七彩的夢幻樂園          1800   \n",
       "1  54d5a117065a7e0e00725ac0         幾何圖形分割 X 色塊組合           100   \n",
       "\n",
       "                 teacher_id  \\\n",
       "0  61888e7bb7fe1c0006850eff   \n",
       "1  54d5a079065a7e0e00725abe   \n",
       "\n",
       "                                       teacher_intro groups      sub_groups  \\\n",
       "0  在美妝 KOL 圈裡屬個人風格強烈的 Alice，在清新與叛逆風格間遊刃有餘，其幽默的美妝影...   生活品味  更多生活品味,護膚保養與化妝   \n",
       "1  從學生時代開始摸索photoshop等軟體，自以為有些天賦但後來發現其實沒有。出社會後從事美...  藝術,設計      平面設計,繪畫與插畫   \n",
       "\n",
       "                topics course_published_at_local  \\\n",
       "0       更多生活品味,護膚保養與化妝                       NaN   \n",
       "1  Illustrator/以拉,配色技巧   2015-03-27 23:38:27.195   \n",
       "\n",
       "                                         description  \\\n",
       "0  <img src=\"https://images.api.hahow.in/images/6...   \n",
       "1  <img src=\"https://storage.googleapis.com/hahow...   \n",
       "\n",
       "                              will_learn                 required_tools  \\\n",
       "0          不再害怕各種顏色的彩妝，可以更隨心搭配各種繽紛的顏色。\\n            所需工具為：視課程實際會用到的彩妝用品   \n",
       "1  可以將任何區塊分割成自己想要的幾何圖形、快速的上色，並且能夠應用在許多地方  Adobe Illustrator（必備）, camera   \n",
       "\n",
       "                              recommended_background           target_group  \n",
       "0  只要你有一顆愛化妝、想變漂亮的心皆可以參加。\\n\\n⚠️ 雖然課程當中會帶到相關彩妝技巧，不...                 熱愛彩妝的人  \n",
       "1                            知道如何使用Illustrator的基本工具列  每一位興趣的人都能學得來，非常容易的小技巧  "
      ]
     },
     "execution_count": 54,
     "metadata": {},
     "output_type": "execute_result"
    }
   ],
   "source": [
    "course_df.head(2)"
   ]
  },
  {
   "cell_type": "code",
   "execution_count": 32,
   "metadata": {},
   "outputs": [
    {
     "data": {
      "text/plain": [
       "728"
      ]
     },
     "execution_count": 32,
     "metadata": {},
     "output_type": "execute_result"
    }
   ],
   "source": [
    "id2course_mapping = course_df[\"course_id\"].to_dict()\n",
    "course2id_mapping = {v : k for k, v in id2course_mapping.items()}\n",
    "len(course2id_mapping)"
   ]
  },
  {
   "cell_type": "code",
   "execution_count": 75,
   "metadata": {},
   "outputs": [
    {
     "data": {
      "text/html": [
       "<div>\n",
       "<style scoped>\n",
       "    .dataframe tbody tr th:only-of-type {\n",
       "        vertical-align: middle;\n",
       "    }\n",
       "\n",
       "    .dataframe tbody tr th {\n",
       "        vertical-align: top;\n",
       "    }\n",
       "\n",
       "    .dataframe thead th {\n",
       "        text-align: right;\n",
       "    }\n",
       "</style>\n",
       "<table border=\"1\" class=\"dataframe\">\n",
       "  <thead>\n",
       "    <tr style=\"text-align: right;\">\n",
       "      <th></th>\n",
       "      <th>course_name</th>\n",
       "      <th>teacher_intro</th>\n",
       "      <th>sub_groups</th>\n",
       "      <th>topics</th>\n",
       "      <th>will_learn</th>\n",
       "      <th>target_group</th>\n",
       "    </tr>\n",
       "  </thead>\n",
       "  <tbody>\n",
       "    <tr>\n",
       "      <th>0</th>\n",
       "      <td>少女人妻華麗變身：七大妝容七彩的夢幻樂園</td>\n",
       "      <td>在美妝KOL圈裡屬個人風格強烈的Alice，在清新與叛逆風格間遊刃有餘，其幽默的美妝影片手法...</td>\n",
       "      <td>更多生活品味,護膚保養與化妝</td>\n",
       "      <td>更多生活品味,護膚保養與化妝</td>\n",
       "      <td>不再害怕各種顏色的彩妝，可以更隨心搭配各種繽紛的顏色。\\n</td>\n",
       "      <td>熱愛彩妝的人</td>\n",
       "    </tr>\n",
       "    <tr>\n",
       "      <th>1</th>\n",
       "      <td>幾何圖形分割X色塊組合</td>\n",
       "      <td>從學生時代開始摸索photoshop等軟體，自以為有些天賦但後來發現其實沒有。出社會後從事美...</td>\n",
       "      <td>平面設計,繪畫與插畫</td>\n",
       "      <td>Illustrator/以拉,配色技巧</td>\n",
       "      <td>可以將任何區塊分割成自己想要的幾何圖形、快速的上色，並且能夠應用在許多地方</td>\n",
       "      <td>每一位興趣的人都能學得來，非常容易的小技巧</td>\n",
       "    </tr>\n",
       "  </tbody>\n",
       "</table>\n",
       "</div>"
      ],
      "text/plain": [
       "            course_name                                      teacher_intro  \\\n",
       "0  少女人妻華麗變身：七大妝容七彩的夢幻樂園  在美妝KOL圈裡屬個人風格強烈的Alice，在清新與叛逆風格間遊刃有餘，其幽默的美妝影片手法...   \n",
       "1           幾何圖形分割X色塊組合  從學生時代開始摸索photoshop等軟體，自以為有些天賦但後來發現其實沒有。出社會後從事美...   \n",
       "\n",
       "       sub_groups               topics                             will_learn  \\\n",
       "0  更多生活品味,護膚保養與化妝       更多生活品味,護膚保養與化妝          不再害怕各種顏色的彩妝，可以更隨心搭配各種繽紛的顏色。\\n   \n",
       "1      平面設計,繪畫與插畫  Illustrator/以拉,配色技巧  可以將任何區塊分割成自己想要的幾何圖形、快速的上色，並且能夠應用在許多地方   \n",
       "\n",
       "            target_group  \n",
       "0                 熱愛彩妝的人  \n",
       "1  每一位興趣的人都能學得來，非常容易的小技巧  "
      ]
     },
     "execution_count": 75,
     "metadata": {},
     "output_type": "execute_result"
    }
   ],
   "source": [
    "def clean_data(x):\n",
    "        return x.replace(\" \", \"\")\n",
    "\n",
    "filledna=course_df.fillna('')\n",
    "features= ['course_name', 'teacher_intro', 'sub_groups', 'topics', 'will_learn', 'target_group']\n",
    "filledna=filledna[features]\n",
    "for feature in features:\n",
    "    filledna[feature] = filledna[feature].apply(clean_data)\n",
    "    \n",
    "filledna.head(2)"
   ]
  },
  {
   "cell_type": "code",
   "execution_count": 76,
   "metadata": {},
   "outputs": [],
   "source": [
    "def create_soup(x):\n",
    "    return x['course_name']+ ' ' + x['teacher_intro'] + ' ' + x['sub_groups'] + ' ' + x['topics'] + ' ' + x['will_learn'] + ' ' + x['target_group'] \n",
    "\n",
    "filledna['soup'] = filledna.apply(create_soup, axis=1)"
   ]
  },
  {
   "cell_type": "code",
   "execution_count": 77,
   "metadata": {},
   "outputs": [
    {
     "data": {
      "text/plain": [
       "(728, 20998)"
      ]
     },
     "execution_count": 77,
     "metadata": {},
     "output_type": "execute_result"
    }
   ],
   "source": [
    "from sklearn.feature_extraction.text import CountVectorizer\n",
    "from sklearn.metrics.pairwise import cosine_similarity\n",
    "from sklearn.feature_extraction.text import TfidfVectorizer\n",
    "from sklearn.metrics.pairwise import linear_kernel\n",
    "\n",
    "\n",
    "tfidf = TfidfVectorizer(stop_words='english')\n",
    "#Construct the required TF-IDF matrix by fitting and transforming the data\n",
    "tfidf_matrix = tfidf.fit_transform(filledna['soup'])\n",
    "# Compute the cosine similarity matrix\n",
    "cosine_sim2 = linear_kernel(tfidf_matrix, tfidf_matrix)\n",
    "#Output the shape of tfidf_matrix\n",
    "tfidf_matrix.shape\n",
    "\n",
    "\n",
    "# count = CountVectorizer(stop_words='english')\n",
    "# count_matrix = count.fit_transform(filledna['soup'])\n",
    "\n",
    "# cosine_sim2 = cosine_similarity(count_matrix, count_matrix)"
   ]
  },
  {
   "cell_type": "code",
   "execution_count": 83,
   "metadata": {},
   "outputs": [
    {
     "data": {
      "text/plain": [
       "['插一盆花歌頌四季－我的自然感花藝創作法',\n",
       " '手繪珠寶設計入門：完成你的第一件珠寶設計',\n",
       " 'NFT 加密藝術｜買幣、發行、交易一次上手！',\n",
       " '靈感不枯竭！30 種方式提升內容創作力',\n",
       " '攝影創作 - 調出電影感色彩',\n",
       " 'Seagate 講堂 | 影像後製再現影像教你做履歷',\n",
       " 'Seagate 講堂 | 動態導演林呈軒教你做履歷',\n",
       " '影片製作入門10堂課 - 攝影、剪輯、腳本',\n",
       " '超現實影像創作 - PS 合成後製課',\n",
       " '前進夢想工作：寫出必勝履歷！',\n",
       " '職場英文大補帖｜銀行行員必備的英文口說',\n",
       " '職場英文大補帖｜必勝簡報方程式',\n",
       " 'Seagate 講堂 | 平面設計師顏伯駿教你做履歷',\n",
       " '一個小時！DIY你的作品集網站',\n",
       " '日本求職全攻略，開啟你海外求職第一步',\n",
       " '作品集必備！Mockup 模擬圖合成術',\n",
       " '履歷面試大剖析－網路科技外商求職技巧',\n",
       " '職場英文大補帖｜從社交心法到溝通金句',\n",
       " '新多益閱讀：英語教父助你一舉突破企業門檻',\n",
       " '雙語教育必學的核心素養－用英文學知識']"
      ]
     },
     "execution_count": 83,
     "metadata": {},
     "output_type": "execute_result"
    }
   ],
   "source": [
    "def get_recommendations_new(haved_courses_list, cosine_sim, top = 10):\n",
    "    cosine_sim_sum = [ [i, 0] for i in range(len(course2id_mapping))]\n",
    "    haved_courses_index_list = [ course2id_mapping[course_id] for course_id in haved_courses_list]\n",
    "    for idx in haved_courses_index_list:\n",
    "        # Get the pairwsie similarity scores of all courses with that course\n",
    "        sim_scores = list(enumerate(cosine_sim[idx]))\n",
    "        for i in range(len(sim_scores)):\n",
    "            cosine_sim_sum[i][1] += sim_scores[i][1]\n",
    "\n",
    "    # Sort the movies based on the similarity scores\n",
    "    sim_scores = sorted(cosine_sim_sum, key=lambda x: x[1], reverse=True)\n",
    "\n",
    "    recommend_indices = []\n",
    "    # Get the scores of the 10 most course not buy\n",
    "    for i in range(len(sim_scores)):\n",
    "        if len(recommend_indices) < top:\n",
    "            if sim_scores[i][0] not in haved_courses_index_list:\n",
    "                recommend_indices.append(sim_scores[i][0])\n",
    "\n",
    "    # Return the top 10 most similar movies\n",
    "    return course_df['course_id'].iloc[recommend_indices].tolist()\n",
    "    \n",
    "get_recommendations_new(['5513e92b38239d10005778e1', '54f1268f4ec3c809002e4a29'], cosine_sim2, 20)"
   ]
  },
  {
   "cell_type": "code",
   "execution_count": 81,
   "metadata": {},
   "outputs": [
    {
     "name": "stdout",
     "output_type": "stream",
     "text": [
      "59737\n"
     ]
    }
   ],
   "source": [
    "seen_predict_df = pd.read_csv('./data/test_seen.csv')\n",
    "predict_user = seen_predict_df[\"user_id\"].to_list()\n",
    "\n",
    "\n",
    "seen_user_haved_purchased_course = {}\n",
    "for seen_user_id, course_ids in zip(train_df[\"user_id\"], train_df[\"course_id\"]):\n",
    "    course_id_list = course_ids.split(' ')\n",
    "    seen_user_haved_purchased_course[seen_user_id] = seen_user_haved_purchased_course.setdefault(seen_user_id, []) + course_id_list\n",
    "for seen_user_id, course_ids in zip(val_seen_df[\"user_id\"], val_seen_df[\"course_id\"]):\n",
    "    course_id_list = course_ids.split(' ')\n",
    "    seen_user_haved_purchased_course[seen_user_id] = seen_user_haved_purchased_course.setdefault(seen_user_id, []) + course_id_list\n",
    "print(len(seen_user_haved_purchased_course))"
   ]
  },
  {
   "cell_type": "code",
   "execution_count": 84,
   "metadata": {},
   "outputs": [],
   "source": [
    "import csv\n",
    "\n",
    "predict_users = seen_predict_df[\"user_id\"].to_list()\n",
    "with open(\"predict.csv\", \"w\") as f:\n",
    "    writer = csv.writer(f)\n",
    "    writer.writerow([\"user_id\", \"course_id\"])\n",
    "    for user_id in predict_users:\n",
    "        recommend = \" \".join(get_recommendations_new(seen_user_haved_purchased_course[user_id], cosine_sim2, top = 50))\n",
    "        writer.writerow([user_id, recommend])"
   ]
  },
  {
   "cell_type": "code",
   "execution_count": null,
   "metadata": {},
   "outputs": [],
   "source": []
  }
 ],
 "metadata": {
  "kernelspec": {
   "display_name": "python3.9.15",
   "language": "python",
   "name": "python3"
  },
  "language_info": {
   "codemirror_mode": {
    "name": "ipython",
    "version": 3
   },
   "file_extension": ".py",
   "mimetype": "text/x-python",
   "name": "python",
   "nbconvert_exporter": "python",
   "pygments_lexer": "ipython3",
   "version": "3.9.15"
  },
  "orig_nbformat": 4,
  "vscode": {
   "interpreter": {
    "hash": "0bda997ab51b7154bfa0003e10cd793310fa86ef15b6cc5561292198cbcafbb0"
   }
  }
 },
 "nbformat": 4,
 "nbformat_minor": 2
}
