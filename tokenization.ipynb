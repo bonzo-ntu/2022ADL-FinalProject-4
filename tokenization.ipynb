{
 "cells": [
  {
   "cell_type": "code",
   "execution_count": 1,
   "metadata": {},
   "outputs": [],
   "source": [
    "import os\n",
    "os.chdir('/home/bonzo/github/2022ADL-FinalProject-4/')"
   ]
  },
  {
   "cell_type": "code",
   "execution_count": 83,
   "metadata": {},
   "outputs": [],
   "source": [
    "import pandas as pd\n",
    "import numpy as np\n",
    "\n",
    "from transformers import AutoTokenizer, AutoModel, BertTokenizerFast\n",
    "from transformers import MT5Model, T5Tokenizer\n",
    "import pickle as pkl\n",
    "from pathlib import Path\n",
    "\n",
    "course_df = pd.read_csv('./data/courses.csv')\n",
    "course_chapter_items_sequence_df = pd.read_csv('course_chapter_items_sequence.csv')\n",
    "\n",
    "partial = course_df.loc[:,['course_name', 'teacher_intro', 'groups', 'sub_groups', 'topics', 'will_learn', 'required_tools', 'recommended_background', 'target_group']] \n",
    "course_df.loc[:,['course_name', 'teacher_intro', 'groups', 'sub_groups', 'topics', 'will_learn', 'required_tools', 'recommended_background', 'target_group']] = partial.fillna('')"
   ]
  },
  {
   "cell_type": "code",
   "execution_count": 85,
   "metadata": {},
   "outputs": [],
   "source": [
    "def tokenized_colum_mt5(df, name, columns, tokenizer, path='./'):\n",
    "    path=Path(path)\n",
    "    for i, column in enumerate(columns):\n",
    "        print(f'start tokenize {column}')\n",
    "        \n",
    "        e0 = df[column][0]\n",
    "        if isinstance(e0, str) and e0.startswith('[') and e0.endswith(']'):\n",
    "            sequence_token_stack = list()\n",
    "            sequence_id_stack = list()\n",
    "            for sequence in df[column].to_list():\n",
    "                sequence = sequence.replace('nan', '')\n",
    "                sequence = eval(sequence)\n",
    "                encoded = tokenizer(sequence)\n",
    "                sequence_token_stack.append([tokenizer.convert_ids_to_tokens(_) for _ in encoded.input_ids])\n",
    "                sequence_id_stack.append(encoded.input_ids)\n",
    "            df[f'{column}_token'] = sequence_token_stack\n",
    "            df[f'{column}_id'] = sequence_id_stack\n",
    "        else:\n",
    "            encoded = tokenizer(df[column].to_list())\n",
    "            df[f'{column}_token'] = [tokenizer.convert_ids_to_tokens(_) for _ in encoded.input_ids]\n",
    "            df[f'{column}_id'] = encoded.input_ids            \n",
    "\n",
    "        # write files\n",
    "        path.mkdir(parents=True, exist_ok=True)\n",
    "        i = \"end\" if i == len(columns) else i\n",
    "        pkl.dump(df, open(path/f'{name}_tokenized_{i}_mt5.pkl', 'wb'))\n",
    "        df.to_csv(path/f'{name}_tokenized_{i}_mt5.csv')\n",
    "        print(f'end tokenize {column}')\n",
    "\n",
    "    return df\n",
    "\n",
    "\n",
    "def select_tokenizer(model_name='tuhailong/chinese-roberta-wwm-ext'): \n",
    "    if model_name == \"mt5-small\":\n",
    "        # model = MT5Model.from_pretrained(\"google/mt5-small\")\n",
    "        tokenizer = T5Tokenizer.from_pretrained(\"google/mt5-small\")\n",
    "    elif model_name == \"chinese-roberta-wwm-ext\":\n",
    "        # model = AutoModel.from_pretrained(\"tuhailong/chinese-roberta-wwm-ext\")\n",
    "        tokenizer = AutoTokenizer.from_pretrained(\"tuhailong/chinese-roberta-wwm-ext\")\n",
    "    elif model_name in (\"bert-base-chinese\",  \"ckiplab/bert-base-chinese-ner\"):\n",
    "        # model = AutoModel.from_pretrained(\"ckiplab/bert-base-chinese-ner\")\n",
    "        tokenizer = BertTokenizerFast.from_pretrained(\"bert-base-chinese\")\n",
    "    \n",
    "    return tokenizer"
   ]
  },
  {
   "cell_type": "code",
   "execution_count": 87,
   "metadata": {},
   "outputs": [
    {
     "name": "stdout",
     "output_type": "stream",
     "text": [
      "start tokenize course_name\n",
      "end tokenize course_name\n",
      "start tokenize teacher_intro\n",
      "end tokenize teacher_intro\n",
      "start tokenize will_learn\n",
      "end tokenize will_learn\n",
      "start tokenize required_tools\n",
      "end tokenize required_tools\n",
      "start tokenize recommended_background\n",
      "end tokenize recommended_background\n",
      "start tokenize chapter_item_name_seq\n",
      "end tokenize chapter_item_name_seq\n"
     ]
    },
    {
     "name": "stderr",
     "output_type": "stream",
     "text": [
      "Downloading: 100%|██████████| 351/351 [00:00<00:00, 119kB/s]\n",
      "Downloading: 100%|██████████| 110k/110k [00:00<00:00, 188kB/s]  \n",
      "Downloading: 100%|██████████| 269k/269k [00:00<00:00, 339kB/s]  \n",
      "Downloading: 100%|██████████| 112/112 [00:00<00:00, 52.0kB/s]\n"
     ]
    },
    {
     "name": "stdout",
     "output_type": "stream",
     "text": [
      "start tokenize course_name\n",
      "end tokenize course_name\n",
      "start tokenize teacher_intro\n",
      "end tokenize teacher_intro\n",
      "start tokenize will_learn\n",
      "end tokenize will_learn\n",
      "start tokenize required_tools\n",
      "end tokenize required_tools\n",
      "start tokenize recommended_background\n",
      "end tokenize recommended_background\n",
      "start tokenize chapter_item_name_seq\n",
      "end tokenize chapter_item_name_seq\n"
     ]
    },
    {
     "name": "stderr",
     "output_type": "stream",
     "text": [
      "Downloading: 100%|██████████| 29.0/29.0 [00:00<00:00, 11.9kB/s]\n",
      "Downloading: 100%|██████████| 110k/110k [00:00<00:00, 184kB/s]  \n",
      "Downloading: 100%|██████████| 269k/269k [00:00<00:00, 343kB/s]  \n",
      "Downloading: 100%|██████████| 624/624 [00:00<00:00, 204kB/s]\n"
     ]
    },
    {
     "name": "stdout",
     "output_type": "stream",
     "text": [
      "start tokenize course_name\n",
      "end tokenize course_name\n",
      "start tokenize teacher_intro\n"
     ]
    },
    {
     "name": "stderr",
     "output_type": "stream",
     "text": [
      "Token indices sequence length is longer than the specified maximum sequence length for this model (907 > 512). Running this sequence through the model will result in indexing errors\n"
     ]
    },
    {
     "name": "stdout",
     "output_type": "stream",
     "text": [
      "end tokenize teacher_intro\n",
      "start tokenize will_learn\n",
      "end tokenize will_learn\n",
      "start tokenize required_tools\n",
      "end tokenize required_tools\n",
      "start tokenize recommended_background\n",
      "end tokenize recommended_background\n",
      "start tokenize chapter_item_name_seq\n",
      "end tokenize chapter_item_name_seq\n"
     ]
    }
   ],
   "source": [
    "if __name__ == \"__main__\":\n",
    "    model_names = ['mt5-small','chinese-roberta-wwm-ext', 'bert-base-chinese']\n",
    "    for model_name in model_names:\n",
    "        tokenizer = select_tokenizer(model_name)\n",
    "        tokenized_colum_mt5(course_df, f'course_{model_name}', ['course_name', 'teacher_intro', 'will_learn', 'required_tools', 'recommended_background'], tokenizer, path='./tokenized/')\n",
    "        tokenized_colum_mt5(course_chapter_items_sequence_df, f'course_chapter_items_sequence_{model_name}', ['chapter_item_name_seq'], tokenizer, path='./tokenized/')\n"
   ]
  }
 ],
 "metadata": {
  "kernelspec": {
   "display_name": "Python 3.9.15 ('adl': venv)",
   "language": "python",
   "name": "python3"
  },
  "language_info": {
   "codemirror_mode": {
    "name": "ipython",
    "version": 3
   },
   "file_extension": ".py",
   "mimetype": "text/x-python",
   "name": "python",
   "nbconvert_exporter": "python",
   "pygments_lexer": "ipython3",
   "version": "3.9.15"
  },
  "orig_nbformat": 4,
  "vscode": {
   "interpreter": {
    "hash": "1f07a293804b885d03dc90a1aa5b9f14c1f9143b210f0732d9797776510e4628"
   }
  }
 },
 "nbformat": 4,
 "nbformat_minor": 2
}
